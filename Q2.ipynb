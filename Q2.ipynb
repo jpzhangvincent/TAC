{
 "cells": [
  {
   "cell_type": "code",
   "execution_count": 1,
   "metadata": {
    "collapsed": false
   },
   "outputs": [],
   "source": [
    "import sqlite3\n",
    "import pandas as pd\n",
    "import os\n",
    "import re\n",
    "import numpy as np\n",
    "from sklearn import cross_validation, metrics\n",
    "from sklearn.metrics import accuracy_score, roc_curve, auc,  precision_recall_curve, average_precision_score\n",
    "from sklearn.grid_search import GridSearchCV\n",
    "from nltk.tokenize import sent_tokenize, word_tokenize, StanfordTokenizer\n",
    "from nltk.corpus import stopwords\n",
    "#from bs4 import BeautifulSoup\n",
    "import matplotlib.pylab as plt\n",
    "%matplotlib inline\n",
    "from matplotlib.pylab import rcParams\n",
    "rcParams['figure.figsize'] = 12, 4\n",
    "import string\n",
    "import seaborn as sns\n",
    "sns.set_style(\"whitegrid\")\n",
    "os.chdir('/Users/RayLJazz//Dropbox/iidata')"
   ]
  },
  {
   "cell_type": "markdown",
   "metadata": {},
   "source": [
    "# Read Data"
   ]
  },
  {
   "cell_type": "code",
   "execution_count": 71,
   "metadata": {
    "collapsed": false
   },
   "outputs": [],
   "source": [
    "ffclean = pd.read_csv('food_p3.csv')"
   ]
  },
  {
   "cell_type": "code",
   "execution_count": 72,
   "metadata": {
    "collapsed": false
   },
   "outputs": [
    {
     "data": {
      "text/plain": [
       "((5608, 18), Index(['country_cleaned', 'brands_cleaned', 'packaging_cleaned',\n",
       "        'catgory_cleaned', 'quan_unit', 'additives_n',\n",
       "        'ingredients_that_may_be_from_palm_oil_n', 'energy_100g', 'fat_100g',\n",
       "        'saturated_fat_100g', 'carbohydrates_100g', 'sugars_100g', 'fiber_100g',\n",
       "        'proteins_100g', 'salt_100g', 'sodium_100g', 'nutrition_score_fr_100g',\n",
       "        'nutrition_score_uk_100g'],\n",
       "       dtype='object'))"
      ]
     },
     "execution_count": 72,
     "metadata": {},
     "output_type": "execute_result"
    }
   ],
   "source": [
    "ffclean.shape, ffclean.columns"
   ]
  },
  {
   "cell_type": "code",
   "execution_count": 86,
   "metadata": {
    "collapsed": true
   },
   "outputs": [],
   "source": [
    "Class = []\n",
    "def identify_class(row):\n",
    "    if (row['catgory_cleaned']=='Sugary snacks'):\n",
    "        Class.append(int(2))\n",
    "    elif (row['catgory_cleaned']=='Groceries'):\n",
    "        Class.append(int(0))\n",
    "    elif (row['catgory_cleaned']=='Plant-based foods and beverages'):\n",
    "        Class.append(int(3))\n",
    "    else:\n",
    "        Class.append(int(1))"
   ]
  },
  {
   "cell_type": "code",
   "execution_count": 87,
   "metadata": {
    "collapsed": false
   },
   "outputs": [],
   "source": [
    "ffclean_class = ffclean.apply(identify_class,axis=1)"
   ]
  },
  {
   "cell_type": "code",
   "execution_count": 88,
   "metadata": {
    "collapsed": false
   },
   "outputs": [
    {
     "data": {
      "text/plain": [
       "1    3127\n",
       "3    1512\n",
       "2     634\n",
       "0     335\n",
       "Name: palm_Class, dtype: int64"
      ]
     },
     "execution_count": 88,
     "metadata": {},
     "output_type": "execute_result"
    }
   ],
   "source": [
    "Class_df = pd.Series(data=Class)\n",
    "ffclean['palm_Class'] = Class_df\n",
    "ffclean['palm_Class'].value_counts()"
   ]
  },
  {
   "cell_type": "code",
   "execution_count": 89,
   "metadata": {
    "collapsed": false
   },
   "outputs": [],
   "source": [
    "#Class_char = pd.Categorical.from_codes(ffclean['palm_Class'], ['No', 'Yes'])\n",
    "#ffclean['Class_char'] = Class_char\n",
    "ffclean=ffclean.replace('NA', np.nan)\n",
    "ffclean=ffclean.replace('NaN', np.nan)\n",
    "ffclean_rna = ffclean"
   ]
  },
  {
   "cell_type": "code",
   "execution_count": 90,
   "metadata": {
    "collapsed": false
   },
   "outputs": [
    {
     "data": {
      "text/plain": [
       "['additives_n',\n",
       " 'ingredients_that_may_be_from_palm_oil_n',\n",
       " 'energy_100g',\n",
       " 'fat_100g',\n",
       " 'saturated_fat_100g',\n",
       " 'carbohydrates_100g',\n",
       " 'sugars_100g',\n",
       " 'fiber_100g',\n",
       " 'proteins_100g',\n",
       " 'salt_100g',\n",
       " 'sodium_100g',\n",
       " 'nutrition_score_fr_100g',\n",
       " 'nutrition_score_uk_100g']"
      ]
     },
     "execution_count": 90,
     "metadata": {},
     "output_type": "execute_result"
    }
   ],
   "source": [
    "ffclean_rna.head(n=10)\n",
    "target = 'palm_Class'\n",
    "Predictors = [x for x in ffclean_rna.columns if x not in ['brands_cleaned','quan_unit','catgory_cleaned','country_cleaned','palm_Class','packaging_cleaned']]\n",
    "Predictors "
   ]
  },
  {
   "cell_type": "code",
   "execution_count": 32,
   "metadata": {
    "collapsed": true
   },
   "outputs": [],
   "source": [
    "import pickle\n",
    "with open('ffclean_rna.pickle', 'wb') as handle:\n",
    "    pickle.dump(ffclean_rna, handle,protocol=2)"
   ]
  },
  {
   "cell_type": "code",
   "execution_count": 25,
   "metadata": {
    "collapsed": true
   },
   "outputs": [],
   "source": [
    "ffclean_rna=pd.read_pickle('ffclean_rna.pickle')"
   ]
  },
  {
   "cell_type": "code",
   "execution_count": 35,
   "metadata": {
    "collapsed": false
   },
   "outputs": [
    {
     "data": {
      "text/plain": [
       "(75059, 27)"
      ]
     },
     "execution_count": 35,
     "metadata": {},
     "output_type": "execute_result"
    }
   ],
   "source": [
    "ffclean_rna[Predictors].shape"
   ]
  },
  {
   "cell_type": "code",
   "execution_count": 91,
   "metadata": {
    "collapsed": false
   },
   "outputs": [],
   "source": [
    "train_x, test_x, train_y, test_y = cross_validation.train_test_split(ffclean_rna[Predictors], ffclean_rna['palm_Class'], test_size=0.3,random_state=1,stratify=ffclean['palm_Class'])"
   ]
  },
  {
   "cell_type": "code",
   "execution_count": 92,
   "metadata": {
    "collapsed": false
   },
   "outputs": [
    {
     "data": {
      "text/plain": [
       "((3925, 13), (1683, 13), (3925,), (1683,))"
      ]
     },
     "execution_count": 92,
     "metadata": {},
     "output_type": "execute_result"
    }
   ],
   "source": [
    "train_x.shape, test_x.shape, train_y.shape, test_y.shape"
   ]
  },
  {
   "cell_type": "code",
   "execution_count": 93,
   "metadata": {
    "collapsed": false
   },
   "outputs": [
    {
     "data": {
      "text/plain": [
       "(1    2189\n",
       " 3    1058\n",
       " 2     444\n",
       " 0     234\n",
       " Name: palm_Class, dtype: int64, 1    938\n",
       " 3    454\n",
       " 2    190\n",
       " 0    101\n",
       " Name: palm_Class, dtype: int64)"
      ]
     },
     "execution_count": 93,
     "metadata": {},
     "output_type": "execute_result"
    }
   ],
   "source": [
    "train_y.value_counts(),  test_y.value_counts()"
   ]
  },
  {
   "cell_type": "markdown",
   "metadata": {},
   "source": [
    "## Extreme Gradient Boosting"
   ]
  },
  {
   "cell_type": "markdown",
   "metadata": {},
   "source": [
    "### Step 1- Find the number of estimators for a high learning rate"
   ]
  },
  {
   "cell_type": "code",
   "execution_count": 94,
   "metadata": {
    "collapsed": false
   },
   "outputs": [],
   "source": [
    "import xgboost as xgb\n",
    "from xgboost.sklearn import XGBClassifier"
   ]
  },
  {
   "cell_type": "code",
   "execution_count": 95,
   "metadata": {
    "collapsed": false
   },
   "outputs": [],
   "source": [
    "train = train_x\n",
    "train['Score'] = train_y\n",
    "test = test_x\n",
    "test['Score'] = test_y"
   ]
  },
  {
   "cell_type": "code",
   "execution_count": 96,
   "metadata": {
    "collapsed": false
   },
   "outputs": [
    {
     "data": {
      "text/plain": [
       "((3925, 14), (1683, 14))"
      ]
     },
     "execution_count": 96,
     "metadata": {},
     "output_type": "execute_result"
    }
   ],
   "source": [
    "train.shape, test.shape"
   ]
  },
  {
   "cell_type": "code",
   "execution_count": 97,
   "metadata": {
    "collapsed": true
   },
   "outputs": [],
   "source": [
    "def modelfit(alg, dtrain, dtest, predictors,target, useTrainCV=True, cv_folds=5, early_stopping_round=50):\n",
    "    \n",
    "    if useTrainCV:\n",
    "        xgb_param = alg.get_xgb_params()\n",
    "        xgtrain = xgb.DMatrix(dtrain[predictors].values, label=dtrain[target].values,missing=np.nan)\n",
    "        xgtest = xgb.DMatrix(dtest[predictors].values,missing=np.nan)\n",
    "        xgb_param_forcv = xgb_param\n",
    "        xgb_param_forcv['num_class'] = 4\n",
    "        cvresult = xgb.cv(xgb_param_forcv, xgtrain, num_boost_round=alg.get_params()['n_estimators'], nfold=cv_folds,\n",
    "             early_stopping_rounds=early_stopping_round, show_progress=True)\n",
    "        alg.set_params(n_estimators=cvresult.shape[0])\n",
    "    \n",
    "    #Fit the algorithm on the data\n",
    "    alg.fit(dtrain[predictors], dtrain[target],eval_metric='merror')\n",
    "    \n",
    "    #Predict training set:\n",
    "    dtrain_predictions = alg.predict(dtrain[predictors])\n",
    "    #dtrain_predprob = alg.predict_proba(dtrain[predictors])[:,1]\n",
    "    return alg, dtrain_predictions\n",
    "   "
   ]
  },
  {
   "cell_type": "code",
   "execution_count": 98,
   "metadata": {
    "collapsed": false,
    "scrolled": true
   },
   "outputs": [
    {
     "name": "stderr",
     "output_type": "stream",
     "text": [
      "Will train until cv error hasn't decreased in 50 rounds.\n",
      "/Users/RayLJazz/miniconda3/lib/python3.5/xgboost/training.py:272: VisibleDeprecationWarning: using a non-integer number instead of an integer will result in an error in the future\n",
      "  idset = [randidx[(i * kstep): min(len(randidx), (i + 1) * kstep)] for i in range(nfold)]\n",
      "[0]\tcv-test-merror:0.25452240000000004+0.009093888378466067\tcv-train-merror:0.2142036+0.01201900382893691\n",
      "[1]\tcv-test-merror:0.2359238+0.014308284724592257\tcv-train-merror:0.19522319999999999+0.0049048331429315745\n",
      "[2]\tcv-test-merror:0.23719739999999997+0.012465993431732597\tcv-train-merror:0.18687899999999996+0.0051369554407255675\n",
      "[3]\tcv-test-merror:0.2303188+0.019004364113539823\tcv-train-merror:0.1869428+0.005438368005201561\n",
      "[4]\tcv-test-merror:0.23337560000000002+0.017249836782995957\tcv-train-merror:0.1817196+0.006268736127801203\n",
      "[5]\tcv-test-merror:0.2318474+0.015413518126631573\tcv-train-merror:0.1791082+0.004270650648320462\n",
      "[6]\tcv-test-merror:0.2285352+0.013968912962718325\tcv-train-merror:0.1763694+0.004984121972825303\n",
      "[7]\tcv-test-merror:0.22777079999999997+0.016121672808986038\tcv-train-merror:0.1742038+0.0035577661193507376\n",
      "[8]\tcv-test-merror:0.22445839999999997+0.014733061550132744\tcv-train-merror:0.1714012+0.002983440255812073\n",
      "[9]\tcv-test-merror:0.220892+0.016503583198808677\tcv-train-merror:0.16802540000000002+0.0026154984687435743\n",
      "[10]\tcv-test-merror:0.22038220000000003+0.017669739459312918\tcv-train-merror:0.16605119999999998+0.0029916406468692056\n",
      "[11]\tcv-test-merror:0.22114660000000003+0.016265747392603877\tcv-train-merror:0.16318459999999999+0.0032388586631713397\n",
      "[12]\tcv-test-merror:0.21630560000000001+0.015145738167550634\tcv-train-merror:0.16063719999999998+0.0033620301247906737\n",
      "[13]\tcv-test-merror:0.21706980000000003+0.015383766800104585\tcv-train-merror:0.1599364+0.003438560896654291\n",
      "[14]\tcv-test-merror:0.2168154+0.012723369217310328\tcv-train-merror:0.1590446+0.0029644584395804893\n",
      "[15]\tcv-test-merror:0.2178344+0.012429516685696198\tcv-train-merror:0.156688+0.002994301053668453\n",
      "[16]\tcv-test-merror:0.2165606+0.011923196007782483\tcv-train-merror:0.1542036+0.004164128749210331\n",
      "[17]\tcv-test-merror:0.21452240000000003+0.01234022363816799\tcv-train-merror:0.1530572+0.004096178970699404\n",
      "[18]\tcv-test-merror:0.21375800000000003+0.012672428859535964\tcv-train-merror:0.15171980000000002+0.003913908297341675\n",
      "[19]\tcv-test-merror:0.21070059999999996+0.011884568979984083\tcv-train-merror:0.14917180000000002+0.0035838699976422157\n",
      "[20]\tcv-test-merror:0.21070060000000002+0.011467742142200438\tcv-train-merror:0.14681539999999998+0.0029600781476170545\n",
      "[21]\tcv-test-merror:0.21121020000000001+0.011879297948953045\tcv-train-merror:0.1457962+0.002598077935705542\n",
      "[22]\tcv-test-merror:0.21095540000000002+0.011830008666099949\tcv-train-merror:0.14318479999999997+0.002568480204323178\n",
      "[23]\tcv-test-merror:0.2094268+0.01260049626641744\tcv-train-merror:0.1415922+0.0020598775109214665\n",
      "[24]\tcv-test-merror:0.20968139999999996+0.011325548703705267\tcv-train-merror:0.13949040000000001+0.0020639924999863767\n",
      "[25]\tcv-test-merror:0.21146480000000004+0.011758556618905232\tcv-train-merror:0.13821639999999996+0.002054108234733506\n",
      "[26]\tcv-test-merror:0.20866259999999998+0.012697830280799943\tcv-train-merror:0.1370062+0.0021545294985216568\n",
      "[27]\tcv-test-merror:0.2068792+0.011608299279394893\tcv-train-merror:0.13528679999999998+0.002844227937419925\n",
      "[28]\tcv-test-merror:0.20636960000000001+0.011563893247518331\tcv-train-merror:0.1333758+0.0021259420876402106\n",
      "[29]\tcv-test-merror:0.20738859999999998+0.01282501640700705\tcv-train-merror:0.1319744+0.003111350484918081\n",
      "[30]\tcv-test-merror:0.2053504+0.011933684152012736\tcv-train-merror:0.1317834+0.002935356373594187\n",
      "[31]\tcv-test-merror:0.20433120000000002+0.012287487658589932\tcv-train-merror:0.12910839999999998+0.003104699766483066\n",
      "[32]\tcv-test-merror:0.2045862+0.011268001604543727\tcv-train-merror:0.12808920000000001+0.00333028445631901\n",
      "[33]\tcv-test-merror:0.20433099999999998+0.012234690956456563\tcv-train-merror:0.1271976+0.0034687173767835285\n",
      "[34]\tcv-test-merror:0.203312+0.013326434977142235\tcv-train-merror:0.12611460000000002+0.003921285432100039\n",
      "[35]\tcv-test-merror:0.2028024+0.013563185313192472\tcv-train-merror:0.1240128+0.004021213269648849\n",
      "[36]\tcv-test-merror:0.2040764+0.013418834637925906\tcv-train-merror:0.12203839999999999+0.0034147663228982477\n",
      "[37]\tcv-test-merror:0.2040764+0.012697990795397508\tcv-train-merror:0.1205098+0.004542480001056692\n",
      "[38]\tcv-test-merror:0.2035668+0.013847395168767302\tcv-train-merror:0.11853500000000002+0.0038766033070202085\n",
      "[39]\tcv-test-merror:0.2040764+0.013515252296572198\tcv-train-merror:0.1173888+0.004582476116686262\n",
      "[40]\tcv-test-merror:0.2028024+0.013823929276439459\tcv-train-merror:0.11617859999999999+0.0043592587718556\n",
      "[41]\tcv-test-merror:0.2005098+0.013204280236347605\tcv-train-merror:0.1148408+0.004096322028356657\n",
      "[42]\tcv-test-merror:0.1994904+0.013922142645440753\tcv-train-merror:0.11280240000000001+0.004246151320902261\n",
      "[43]\tcv-test-merror:0.2005096+0.013350882182088191\tcv-train-merror:0.11210200000000001+0.0049297571542622695\n",
      "[44]\tcv-test-merror:0.1982166+0.015614297916973403\tcv-train-merror:0.1109554+0.004479212814770023\n",
      "[45]\tcv-test-merror:0.19821640000000001+0.013567888554966826\tcv-train-merror:0.1094266+0.004237650273441638\n",
      "[46]\tcv-test-merror:0.197707+0.01267244896616277\tcv-train-merror:0.10764320000000001+0.003540796938543639\n",
      "[47]\tcv-test-merror:0.19643320000000003+0.012517948927839572\tcv-train-merror:0.1065604+0.0036565558986565504\n",
      "[48]\tcv-test-merror:0.196433+0.012543695675517637\tcv-train-merror:0.1059232+0.003538291813855944\n",
      "[49]\tcv-test-merror:0.1971974+0.014886662118823007\tcv-train-merror:0.1048408+0.003256601197567794\n",
      "[50]\tcv-test-merror:0.19643320000000003+0.016181855844123693\tcv-train-merror:0.10375780000000001+0.0036668492415151198\n",
      "[51]\tcv-test-merror:0.19694260000000002+0.016305643754234305\tcv-train-merror:0.1024202+0.0040161805935490505\n",
      "[52]\tcv-test-merror:0.1974522+0.01655076548562029\tcv-train-merror:0.1005732+0.003116550490526344\n",
      "[53]\tcv-test-merror:0.19694280000000003+0.01715939816427138\tcv-train-merror:0.0991718+0.0033737530081498243\n",
      "[54]\tcv-test-merror:0.19770720000000003+0.016965353016073673\tcv-train-merror:0.098089+0.003303601791984014\n",
      "[55]\tcv-test-merror:0.19643320000000003+0.017287541773196094\tcv-train-merror:0.0973248+0.003872302333237942\n",
      "[56]\tcv-test-merror:0.1959238+0.0181304017980849\tcv-train-merror:0.0959874+0.0032765657997360564\n",
      "[57]\tcv-test-merror:0.19541400000000003+0.016853626434687578\tcv-train-merror:0.0945224+0.004231548964622765\n",
      "[58]\tcv-test-merror:0.1941402+0.018312105606947546\tcv-train-merror:0.093567+0.004164015561930572\n",
      "[59]\tcv-test-merror:0.1949046+0.017888907318223773\tcv-train-merror:0.0924838+0.0035497591692958586\n",
      "[60]\tcv-test-merror:0.1918472+0.016365355741932406\tcv-train-merror:0.0915924+0.003282550142800566\n",
      "[61]\tcv-test-merror:0.19286620000000002+0.017347249296646425\tcv-train-merror:0.0908916+0.003990912507184292\n",
      "[62]\tcv-test-merror:0.19184700000000002+0.01664054613286475\tcv-train-merror:0.08942680000000001+0.004345145033252629\n",
      "[63]\tcv-test-merror:0.19235660000000002+0.016842183951020127\tcv-train-merror:0.0887262+0.004001124212018417\n",
      "[64]\tcv-test-merror:0.19210180000000002+0.01765879406301574\tcv-train-merror:0.0877072+0.004056505757422267\n",
      "[65]\tcv-test-merror:0.19159220000000002+0.018870785520481118\tcv-train-merror:0.0866242+0.003670080729357323\n",
      "[66]\tcv-test-merror:0.1898088+0.01844259921377678\tcv-train-merror:0.084777+0.0037052776953961242\n",
      "[67]\tcv-test-merror:0.190828+0.01793218929188514\tcv-train-merror:0.0840128+0.0031034130501755657\n",
      "[68]\tcv-test-merror:0.1903184+0.020738969343725835\tcv-train-merror:0.0828662+0.003455925195949704\n",
      "[69]\tcv-test-merror:0.1903184+0.020487012291693484\tcv-train-merror:0.08229299999999999+0.00337997988159693\n",
      "[70]\tcv-test-merror:0.19133740000000002+0.020324964576598888\tcv-train-merror:0.081083+0.00311118260473409\n",
      "[71]\tcv-test-merror:0.19133740000000002+0.019872776923218347\tcv-train-merror:0.080382+0.0032451402435025815\n",
      "[72]\tcv-test-merror:0.19082780000000002+0.018746532878375126\tcv-train-merror:0.0797452+0.002736513942957353\n",
      "[73]\tcv-test-merror:0.1905732+0.01959626673017082\tcv-train-merror:0.07885339999999999+0.0031243566761815123\n",
      "[74]\tcv-test-merror:0.189554+0.020578712612794803\tcv-train-merror:0.07713339999999999+0.0034265727250417438\n",
      "[75]\tcv-test-merror:0.1900636+0.019258778274854296\tcv-train-merror:0.0761784+0.002502829646620002\n",
      "[76]\tcv-test-merror:0.18853499999999998+0.01931906980162347\tcv-train-merror:0.07515920000000001+0.002633648070642697\n",
      "[77]\tcv-test-merror:0.1882802+0.018815525912394795\tcv-train-merror:0.07496820000000001+0.00330093982980605\n",
      "[78]\tcv-test-merror:0.18751619999999997+0.018290609343594867\tcv-train-merror:0.07331200000000002+0.0031165668290604647\n",
      "[79]\tcv-test-merror:0.1870068+0.01778699274638633\tcv-train-merror:0.072548+0.002636998217670993\n",
      "[80]\tcv-test-merror:0.1862424+0.017060468089709614\tcv-train-merror:0.07146480000000001+0.002971285876518782\n",
      "[81]\tcv-test-merror:0.18675139999999998+0.016815148487004213\tcv-train-merror:0.070255+0.002447138737382904\n",
      "[82]\tcv-test-merror:0.18573259999999997+0.01707939532419107\tcv-train-merror:0.0693632+0.0016163829249283687\n",
      "[83]\tcv-test-merror:0.1854778+0.01829427272563739\tcv-train-merror:0.0684714+0.0018126527080497268\n",
      "[84]\tcv-test-merror:0.1854778+0.017365849295672246\tcv-train-merror:0.0675796+0.0017488362530551596\n",
      "[85]\tcv-test-merror:0.1849682+0.01903850902145439\tcv-train-merror:0.0667516+0.0020700049855012447\n",
      "[86]\tcv-test-merror:0.18598719999999996+0.018336589556403344\tcv-train-merror:0.0663056+0.002461804590133022\n",
      "[87]\tcv-test-merror:0.1844588+0.018607502824398554\tcv-train-merror:0.0650954+0.0024553946811052625\n",
      "[88]\tcv-test-merror:0.182675+0.018151756543100726\tcv-train-merror:0.0635668+0.002838547050869512\n",
      "[89]\tcv-test-merror:0.1831848+0.017640416292140047\tcv-train-merror:0.0636942+0.002579455865100236\n",
      "[90]\tcv-test-merror:0.1836942+0.018040558488029133\tcv-train-merror:0.0628028+0.0030707259988478276\n",
      "[91]\tcv-test-merror:0.1834396+0.01707190455221678\tcv-train-merror:0.0620382+0.0028010199142455235\n",
      "[92]\tcv-test-merror:0.18420379999999997+0.016660189007331225\tcv-train-merror:0.0614012+0.0033729881944649606\n",
      "[93]\tcv-test-merror:0.18369439999999998+0.016060896246473923\tcv-train-merror:0.059872400000000006+0.003447714988220459\n",
      "[94]\tcv-test-merror:0.18292979999999998+0.016285807912412572\tcv-train-merror:0.05949020000000001+0.0029698169909945647\n",
      "[95]\tcv-test-merror:0.18267519999999998+0.0152353460794299\tcv-train-merror:0.058535000000000004+0.002682739942670553\n",
      "[96]\tcv-test-merror:0.18318459999999998+0.015295015130427296\tcv-train-merror:0.0571976+0.0029507043633681756\n",
      "[97]\tcv-test-merror:0.18318459999999998+0.015568444490057442\tcv-train-merror:0.0561782+0.0027367233985187466\n",
      "[98]\tcv-test-merror:0.18318459999999998+0.01581664343152491\tcv-train-merror:0.0548406+0.002815518893561186\n",
      "[99]\tcv-test-merror:0.18318459999999998+0.014776906896911815\tcv-train-merror:0.0540126+0.002751454713419794\n",
      "[100]\tcv-test-merror:0.18369419999999997+0.014443671367072848\tcv-train-merror:0.053566800000000005+0.0032001002109309025\n",
      "[101]\tcv-test-merror:0.18292979999999998+0.014198893117422923\tcv-train-merror:0.0523568+0.0030185358967552453\n",
      "[102]\tcv-test-merror:0.18191079999999998+0.013563038795196306\tcv-train-merror:0.0518472+0.002566974359046075\n",
      "[103]\tcv-test-merror:0.18114639999999999+0.014033513752442758\tcv-train-merror:0.050700800000000004+0.002667481163944743\n",
      "[104]\tcv-test-merror:0.18369419999999997+0.01426275951420342\tcv-train-merror:0.050254599999999996+0.0030705061211468055\n",
      "[105]\tcv-test-merror:0.18216539999999998+0.014344449541198852\tcv-train-merror:0.049681600000000006+0.003165530514779475\n",
      "[106]\tcv-test-merror:0.18242039999999998+0.014079700601930428\tcv-train-merror:0.048343800000000006+0.002574707548441182\n",
      "[107]\tcv-test-merror:0.18292979999999998+0.014425701707715989\tcv-train-merror:0.048535+0.0028028409159279806\n",
      "[108]\tcv-test-merror:0.18216559999999998+0.015664220869229337\tcv-train-merror:0.047770999999999994+0.002523721854721712\n",
      "[109]\tcv-test-merror:0.181911+0.0158166982015843\tcv-train-merror:0.046942399999999995+0.0028097346209206317\n",
      "[110]\tcv-test-merror:0.18140119999999998+0.015882061395171596\tcv-train-merror:0.0459874+0.002069604947810089\n",
      "[111]\tcv-test-merror:0.1806368+0.016460120575500045\tcv-train-merror:0.0449044+0.0020343522408865183\n",
      "[112]\tcv-test-merror:0.180382+0.015882051769214204\tcv-train-merror:0.044522400000000004+0.0019464544793033314\n",
      "[113]\tcv-test-merror:0.1811466+0.015672381217926013\tcv-train-merror:0.0436306+0.002883919319259816\n",
      "[114]\tcv-test-merror:0.180382+0.016105297054075096\tcv-train-merror:0.04248420000000001+0.002040214831825316\n",
      "[115]\tcv-test-merror:0.1811466+0.01490816142386445\tcv-train-merror:0.042102+0.002264408178752232\n",
      "[116]\tcv-test-merror:0.1803824+0.014199129967712816\tcv-train-merror:0.041210000000000004+0.001446844981330067\n",
      "[117]\tcv-test-merror:0.1803824+0.015064303470124333\tcv-train-merror:0.0405096+0.002008179135435881\n",
      "[118]\tcv-test-merror:0.180637+0.014376146284731528\tcv-train-merror:0.039744999999999996+0.0024287625655876714\n",
      "[119]\tcv-test-merror:0.180637+0.015016648587484496\tcv-train-merror:0.0391084+0.0022645600544035035\n",
      "[120]\tcv-test-merror:0.1806368+0.014886206869447974\tcv-train-merror:0.0382804+0.002369691000953499\n",
      "[121]\tcv-test-merror:0.18089159999999999+0.01459109937736016\tcv-train-merror:0.037643600000000006+0.0028866569314693427\n",
      "[122]\tcv-test-merror:0.1796178+0.015413435482072127\tcv-train-merror:0.0368154+0.0021749893425026252\n",
      "[123]\tcv-test-merror:0.179363+0.01593934800423154\tcv-train-merror:0.0361148+0.0026460942840344885\n",
      "[124]\tcv-test-merror:0.1793632+0.01624212018672439\tcv-train-merror:0.035541399999999994+0.0028740223798711093\n",
      "[125]\tcv-test-merror:0.180637+0.01571374525693986\tcv-train-merror:0.035031799999999995+0.002269996511010534\n",
      "[126]\tcv-test-merror:0.1803822+0.016365371311400177\tcv-train-merror:0.0348408+0.002146929565682116\n",
      "[127]\tcv-test-merror:0.1798726+0.01585768258731395\tcv-train-merror:0.03382159999999999+0.001998146300949958\n",
      "[128]\tcv-test-merror:0.1791082+0.01685391970314324\tcv-train-merror:0.033312+0.0018742432072706052\n",
      "[129]\tcv-test-merror:0.1806368+0.015484688171222564\tcv-train-merror:0.0327386+0.0020180105648881035\n",
      "[130]\tcv-test-merror:0.1793632+0.015837388653436524\tcv-train-merror:0.0321654+0.0018787105790940774\n",
      "[131]\tcv-test-merror:0.1788536+0.016004563694146743\tcv-train-merror:0.0317832+0.0014856150780064134\n",
      "[132]\tcv-test-merror:0.1788534+0.016245919298088364\tcv-train-merror:0.0315288+0.0018459253939420198\n",
      "[133]\tcv-test-merror:0.178344+0.016881050038430663\tcv-train-merror:0.0309552+0.0018285339920274938\n",
      "[134]\tcv-test-merror:0.1788534+0.015779706063168603\tcv-train-merror:0.030382199999999998+0.0019168743725137556\n",
      "[135]\tcv-test-merror:0.1780892+0.01569327168438755\tcv-train-merror:0.030191000000000003+0.002237282190515985\n",
      "[136]\tcv-test-merror:0.1785988+0.01505999312616045\tcv-train-merror:0.0294904+0.0018526663596017492\n",
      "[137]\tcv-test-merror:0.1788536+0.015214379456290686\tcv-train-merror:0.028789799999999997+0.0018853208108966493\n",
      "[138]\tcv-test-merror:0.1798728+0.015939527024350503\tcv-train-merror:0.028216200000000004+0.00179702803539622\n",
      "[139]\tcv-test-merror:0.1791084+0.016024833523004225\tcv-train-merror:0.0274524+0.0014992689685309965\n",
      "[140]\tcv-test-merror:0.1775796+0.015531090722805016\tcv-train-merror:0.0269426+0.001374862407661217\n",
      "[141]\tcv-test-merror:0.1785988+0.01437632704691988\tcv-train-merror:0.026369399999999998+0.0011982745261416524\n",
      "[142]\tcv-test-merror:0.1788536+0.014537975396870092\tcv-train-merror:0.025541400000000002+0.001264549975287652\n",
      "[143]\tcv-test-merror:0.178344+0.015350306420394352\tcv-train-merror:0.0251592+0.0015471441303252914\n",
      "[144]\tcv-test-merror:0.178344+0.01441240951402645\tcv-train-merror:0.025223000000000002+0.0017020088131381697\n",
      "[145]\tcv-test-merror:0.1773248+0.014973525682350167\tcv-train-merror:0.024585999999999997+0.0015262353684802356\n",
      "[146]\tcv-test-merror:0.1778344+0.015278253612242469\tcv-train-merror:0.024204000000000003+0.0016114966956218058\n",
      "[147]\tcv-test-merror:0.1778344+0.015882417518753245\tcv-train-merror:0.023375799999999995+0.0012833308848461489\n",
      "[148]\tcv-test-merror:0.1780894+0.016888411240847966\tcv-train-merror:0.023120999999999996+0.0013748531557951922\n",
      "[149]\tcv-test-merror:0.1775798+0.016795902243106797\tcv-train-merror:0.0227388+0.0014041201373101945\n",
      "[150]\tcv-test-merror:0.1768154+0.017677219030152905\tcv-train-merror:0.022356800000000003+0.001295975524460242\n",
      "[151]\tcv-test-merror:0.177325+0.016578044613282952\tcv-train-merror:0.022102+0.0014325760014742678\n",
      "[152]\tcv-test-merror:0.1770702+0.015434762264447094\tcv-train-merror:0.021783599999999997+0.001314540010802258\n",
      "[153]\tcv-test-merror:0.1765606+0.01538421064078362\tcv-train-merror:0.021082999999999998+0.0012317028862513883\n",
      "[154]\tcv-test-merror:0.17605120000000002+0.015610077416848386\tcv-train-merror:0.0207644+0.001015198423954648\n",
      "[155]\tcv-test-merror:0.176051+0.015295338283280955\tcv-train-merror:0.020191+0.0013301333767709162\n",
      "[156]\tcv-test-merror:0.1765606+0.01525709881465018\tcv-train-merror:0.0199362+0.0011675421020245907\n",
      "[157]\tcv-test-merror:0.17681560000000002+0.01612152741647019\tcv-train-merror:0.019809+0.00147192975375865\n",
      "[158]\tcv-test-merror:0.17554140000000001+0.017249718624951543\tcv-train-merror:0.0191718+0.0014301238268066155\n",
      "[159]\tcv-test-merror:0.17554140000000001+0.01684992502772639\tcv-train-merror:0.018853599999999998+0.0016035914192836028\n",
      "[160]\tcv-test-merror:0.17452220000000002+0.016687325902013182\tcv-train-merror:0.0184076+0.001565265166034177\n",
      "[161]\tcv-test-merror:0.1765606+0.016621060924020464\tcv-train-merror:0.0182166+0.0013865532229236643\n",
      "[162]\tcv-test-merror:0.17528660000000001+0.016988055351923013\tcv-train-merror:0.018152800000000004+0.0020640542047145947\n",
      "[163]\tcv-test-merror:0.17452240000000002+0.017242275251253825\tcv-train-merror:0.017707+0.002118167415479711\n",
      "[164]\tcv-test-merror:0.17477720000000002+0.017324908824002512\tcv-train-merror:0.0171974+0.0017443868378315623\n",
      "[165]\tcv-test-merror:0.17503180000000002+0.017459191211508057\tcv-train-merror:0.0171976+0.001586036897427042\n",
      "[166]\tcv-test-merror:0.17477720000000002+0.017343635609640792\tcv-train-merror:0.016815399999999998+0.0015126901335038843\n",
      "[167]\tcv-test-merror:0.17350320000000002+0.015102798289058894\tcv-train-merror:0.016624+0.0014439671741421271\n",
      "[168]\tcv-test-merror:0.17426760000000002+0.015878094994047624\tcv-train-merror:0.0164968+0.001326896891246641\n",
      "[169]\tcv-test-merror:0.17401280000000002+0.015800222433877322\tcv-train-merror:0.016242+0.0016486018318563158\n",
      "[170]\tcv-test-merror:0.17401280000000002+0.01698815133438598\tcv-train-merror:0.016242200000000002+0.00146648414924949\n",
      "[171]\tcv-test-merror:0.17375780000000002+0.016834511960849948\tcv-train-merror:0.01586+0.001512546991005569\n",
      "[172]\tcv-test-merror:0.1732484+0.016570321054222216\tcv-train-merror:0.0156052+0.0015472264734032956\n",
      "[173]\tcv-test-merror:0.17426760000000002+0.01638118224793315\tcv-train-merror:0.015031799999999998+0.0013268681019604025\n",
      "[174]\tcv-test-merror:0.17324840000000002+0.01505114868174519\tcv-train-merror:0.014776999999999998+0.0014325760014742674\n",
      "[175]\tcv-test-merror:0.17375800000000002+0.015128578862536955\tcv-train-merror:0.014395+0.0014993709347589739\n",
      "[176]\tcv-test-merror:0.17350300000000002+0.015526578502683715\tcv-train-merror:0.0142674+0.0014012909191170834\n",
      "[177]\tcv-test-merror:0.17324840000000002+0.014877608458351094\tcv-train-merror:0.014395+0.0011641709496461425\n",
      "[178]\tcv-test-merror:0.17350320000000002+0.01492989257027658\tcv-train-merror:0.0140766+0.0010735864380663534\n",
      "[179]\tcv-test-merror:0.1742672+0.01417166946269916\tcv-train-merror:0.0140766+0.0010735864380663534\n",
      "[180]\tcv-test-merror:0.17477720000000002+0.015442852487801596\tcv-train-merror:0.0139492+0.0011466222394494188\n",
      "[181]\tcv-test-merror:0.17299360000000003+0.0150165908994019\tcv-train-merror:0.013567+0.0010958083774091163\n",
      "[182]\tcv-test-merror:0.17273880000000003+0.014803251594159975\tcv-train-merror:0.013120999999999999+0.0012642678513669484\n",
      "[183]\tcv-test-merror:0.17324840000000002+0.015265266504060777\tcv-train-merror:0.0133122+0.0013720193001557962\n",
      "[184]\tcv-test-merror:0.17401280000000002+0.01544704280307399\tcv-train-merror:0.013248399999999999+0.0013749828508021476\n",
      "[185]\tcv-test-merror:0.17350320000000002+0.015124276728491844\tcv-train-merror:0.0130574+0.0015072903635331848\n",
      "[186]\tcv-test-merror:0.17375800000000002+0.01602459821649205\tcv-train-merror:0.0129298+0.0014329138704053362\n",
      "[187]\tcv-test-merror:0.17375800000000002+0.01580021275806121\tcv-train-merror:0.0127388+0.0012253979598481465\n",
      "[188]\tcv-test-merror:0.17426760000000002+0.016714635187164574\tcv-train-merror:0.012293000000000002+0.0009784998722534406\n",
      "[189]\tcv-test-merror:0.17452240000000002+0.015910765708789753\tcv-train-merror:0.012420400000000002+0.0010658451294630004\n",
      "[190]\tcv-test-merror:0.17528680000000002+0.01648389590357813\tcv-train-merror:0.0122292+0.0010389401137697975\n",
      "[191]\tcv-test-merror:0.17554140000000001+0.01649954076451826\tcv-train-merror:0.012165400000000002+0.0009743442102255234\n",
      "[192]\tcv-test-merror:0.17503180000000002+0.016444366943120667\tcv-train-merror:0.0119746+0.0010770282447549828\n",
      "[193]\tcv-test-merror:0.17528660000000001+0.016757215730544256\tcv-train-merror:0.011974600000000002+0.0009361949796917304\n",
      "[194]\tcv-test-merror:0.17528660000000001+0.01575899161240972\tcv-train-merror:0.011974400000000001+0.0008207636931541259\n",
      "[195]\tcv-test-merror:0.1765606+0.016988055351923007\tcv-train-merror:0.011719799999999999+0.0009315772431741767\n",
      "[196]\tcv-test-merror:0.17452240000000002+0.016823035274289837\tcv-train-merror:0.0114012+0.0008156331037911591\n",
      "[197]\tcv-test-merror:0.17426760000000002+0.016597715404235613\tcv-train-merror:0.0111464+0.0009007833479810779\n",
      "[198]\tcv-test-merror:0.17426760000000002+0.016221892560364225\tcv-train-merror:0.0109556+0.0007694914164563501\n",
      "[199]\tcv-test-merror:0.17503180000000002+0.017102309766812204\tcv-train-merror:0.0110828+0.000790254490654751\n",
      "[200]\tcv-test-merror:0.17554140000000001+0.016811350708375576\tcv-train-merror:0.010891799999999998+0.0007643500245306463\n",
      "[201]\tcv-test-merror:0.17554140000000001+0.016926809948717442\tcv-train-merror:0.010891799999999998+0.0006173262994559681\n",
      "[202]\tcv-test-merror:0.1757962+0.017128868198453738\tcv-train-merror:0.0105096+0.0006370000313971734\n",
      "[203]\tcv-test-merror:0.17528660000000001+0.017772441110888514\tcv-train-merror:0.0104458+0.0008156019617435947\n",
      "[204]\tcv-test-merror:0.1755412+0.01820171640697657\tcv-train-merror:0.0102548+0.0007371562656587816\n",
      "[205]\tcv-test-merror:0.1755412+0.01872905106405554\tcv-train-merror:0.010191+0.000697798538261582\n",
      "[206]\tcv-test-merror:0.1760508+0.018676995801252406\tcv-train-merror:0.0096816+0.0007698224730416751\n",
      "[207]\tcv-test-merror:0.17477700000000002+0.01800469374357698\tcv-train-merror:0.0096178+0.0007645166839252108\n",
      "[208]\tcv-test-merror:0.17503180000000002+0.01806227899684866\tcv-train-merror:0.009299400000000001+0.0006175738336425861\n",
      "[209]\tcv-test-merror:0.17452220000000002+0.018912054889937267\tcv-train-merror:0.009363400000000001+0.0008450759965825559\n",
      "[210]\tcv-test-merror:0.17528660000000001+0.01788166732270792\tcv-train-merror:0.0092356+0.0006370000313971739\n",
      "[211]\tcv-test-merror:0.17554140000000001+0.018642382826237643\tcv-train-merror:0.0087262+0.0004319460151454111\n",
      "[212]\tcv-test-merror:0.1763058+0.01957991577509975\tcv-train-merror:0.0085988+0.000348716733180385\n",
      "[213]\tcv-test-merror:0.1760508+0.018901564701367984\tcv-train-merror:0.008598799999999998+0.00045042708621929016\n",
      "[214]\tcv-test-merror:0.1757962+0.018015496866864378\tcv-train-merror:0.008407799999999998+0.00047671391840389956\n",
      "[215]\tcv-test-merror:0.176051+0.018148328319710336\tcv-train-merror:0.008280199999999998+0.0004504270862192904\n",
      "[216]\tcv-test-merror:0.1768154+0.018781168244813743\tcv-train-merror:0.008280399999999999+0.0006370000313971735\n",
      "[217]\tcv-test-merror:0.1757962+0.019569971061807936\tcv-train-merror:0.0080894+0.0006241299864611536\n",
      "[218]\tcv-test-merror:0.1763058+0.018973740953222698\tcv-train-merror:0.0078982+0.0007093691281695305\n",
      "[219]\tcv-test-merror:0.1763058+0.01900792746619158\tcv-train-merror:0.007897999999999999+0.0007375708779500447\n",
      "[220]\tcv-test-merror:0.1757962+0.018670233361155402\tcv-train-merror:0.0078344+0.0008207636931541255\n",
      "[221]\tcv-test-merror:0.176051+0.017896189940878483\tcv-train-merror:0.0077706+0.0006557928331416865\n",
      "[222]\tcv-test-merror:0.176051+0.017603606085117896\tcv-train-merror:0.007707+0.0007372253386855336\n",
      "[223]\tcv-test-merror:0.1765606+0.017972205714380195\tcv-train-merror:0.007515799999999999+0.0005908804955318802\n",
      "[224]\tcv-test-merror:0.17503180000000002+0.019712101485128367\tcv-train-merror:0.007388199999999999+0.0006496150860317206\n",
      "[225]\tcv-test-merror:0.17503180000000002+0.01880190312069499\tcv-train-merror:0.007260999999999999+0.0005478751682637201\n",
      "[226]\tcv-test-merror:0.17452220000000002+0.018774264197565775\tcv-train-merror:0.007260999999999999+0.0005478751682637201\n",
      "[227]\tcv-test-merror:0.17503180000000002+0.01907611669496704\tcv-train-merror:0.0071335999999999995+0.0006557928331416863\n",
      "[228]\tcv-test-merror:0.17503180000000002+0.01893949273238331\tcv-train-merror:0.0069426+0.0006177800903234097\n",
      "[229]\tcv-test-merror:0.17477700000000002+0.019089714633802154\tcv-train-merror:0.006751399999999999+0.0006175738336425857\n",
      "[230]\tcv-test-merror:0.17554140000000001+0.019359857330052826\tcv-train-merror:0.0064328+0.000815633103791159\n",
      "[231]\tcv-test-merror:0.1763056+0.02029605285369547\tcv-train-merror:0.0064966+0.0008447443636982728\n",
      "[232]\tcv-test-merror:0.1773248+0.020515558041642446\tcv-train-merror:0.0065601999999999995+0.0007427089335668446\n",
      "Stopping. Best iteration: 182\n",
      "/Users/RayLJazz/miniconda3/lib/python3.5/xgboost/core.py:840: VisibleDeprecationWarning: using a non-integer number instead of an integer will result in an error in the future\n",
      "  preds = preds.reshape(nrow, preds.size / nrow)\n"
     ]
    }
   ],
   "source": [
    "xgb1 = XGBClassifier(\n",
    "        learning_rate =0.1,\n",
    "        n_estimators=1000,\n",
    "        max_depth=5,\n",
    "        min_child_weight=1,\n",
    "        gamma=0,\n",
    "        subsample=0.8,\n",
    "        colsample_bytree=0.8,\n",
    "        objective= 'multi:softmax',\n",
    "        nthread=4,\n",
    "        scale_pos_weight=1,\n",
    "        seed=27)\n",
    "xgb1, dtrain_predictions = modelfit(xgb1, train, test, Predictors,'Score')"
   ]
  },
  {
   "cell_type": "code",
   "execution_count": 99,
   "metadata": {
    "collapsed": true
   },
   "outputs": [],
   "source": [
    "target = 'Score'\n",
    "def get_performance(xgbmodel,dtrain,dtest,predictors,dtrain_predictions):\n",
    "    print (\"\\nModel Report\")\n",
    "    print (\"Train accuracy : %.4g\" % metrics.accuracy_score(dtrain[target].values, dtrain_predictions))\n",
    "    test_result = xgbmodel.predict(dtest[predictors])\n",
    "    dtest_predprob = xgbmodel.predict_proba(dtest[predictors])[:,1]\n",
    "    print (\"Test accuracy : %.4g\" % metrics.accuracy_score(dtest[target].values, test_result))\n",
    "    print (\"AUC Score (Train): %f\" % metrics.roc_auc_score(dtrain[target], dtrain_predprob))\n",
    "    print (\"AUC Score (Test): %f\" % metrics.roc_auc_score(dtest[target], dtest_predprob))\n",
    "    print (pd.crosstab(dtest[target].values, test_result, rownames=['actual'], colnames=['preds']))\n",
    "    feat_imp = pd.Series(xgbmodel.booster().get_fscore()).sort_values(ascending=False)\n",
    "    feat_imp.plot(kind='barh', title='Feature Importances').invert_yaxis()\n",
    "    plt.ylabel('Feature Importance Score')"
   ]
  },
  {
   "cell_type": "code",
   "execution_count": 100,
   "metadata": {
    "collapsed": false
   },
   "outputs": [
    {
     "name": "stdout",
     "output_type": "stream",
     "text": [
      "\n",
      "Model Report\n",
      "Train accuracy : 0.9786\n",
      "Test accuracy : 0.8188\n"
     ]
    },
    {
     "name": "stderr",
     "output_type": "stream",
     "text": [
      "/Users/RayLJazz/miniconda3/lib/python3.5/xgboost/core.py:840: VisibleDeprecationWarning: using a non-integer number instead of an integer will result in an error in the future\n",
      "  preds = preds.reshape(nrow, preds.size / nrow)\n"
     ]
    },
    {
     "ename": "NameError",
     "evalue": "name 'dtrain_predprob' is not defined",
     "output_type": "error",
     "traceback": [
      "\u001b[0;31m---------------------------------------------------------------------------\u001b[0m",
      "\u001b[0;31mNameError\u001b[0m                                 Traceback (most recent call last)",
      "\u001b[0;32m<ipython-input-100-472758ff1976>\u001b[0m in \u001b[0;36m<module>\u001b[0;34m()\u001b[0m\n\u001b[0;32m----> 1\u001b[0;31m \u001b[0mget_performance\u001b[0m\u001b[0;34m(\u001b[0m\u001b[0mxgb1\u001b[0m\u001b[0;34m,\u001b[0m\u001b[0mtrain\u001b[0m\u001b[0;34m,\u001b[0m\u001b[0mtest\u001b[0m\u001b[0;34m,\u001b[0m\u001b[0mPredictors\u001b[0m\u001b[0;34m,\u001b[0m\u001b[0mdtrain_predictions\u001b[0m\u001b[0;34m)\u001b[0m\u001b[0;34m\u001b[0m\u001b[0m\n\u001b[0m",
      "\u001b[0;32m<ipython-input-99-43ca80359088>\u001b[0m in \u001b[0;36mget_performance\u001b[0;34m(xgbmodel, dtrain, dtest, predictors, dtrain_predictions)\u001b[0m\n\u001b[1;32m      6\u001b[0m     \u001b[0mdtest_predprob\u001b[0m \u001b[0;34m=\u001b[0m \u001b[0mxgbmodel\u001b[0m\u001b[0;34m.\u001b[0m\u001b[0mpredict_proba\u001b[0m\u001b[0;34m(\u001b[0m\u001b[0mdtest\u001b[0m\u001b[0;34m[\u001b[0m\u001b[0mpredictors\u001b[0m\u001b[0;34m]\u001b[0m\u001b[0;34m)\u001b[0m\u001b[0;34m[\u001b[0m\u001b[0;34m:\u001b[0m\u001b[0;34m,\u001b[0m\u001b[0;36m1\u001b[0m\u001b[0;34m]\u001b[0m\u001b[0;34m\u001b[0m\u001b[0m\n\u001b[1;32m      7\u001b[0m     \u001b[0mprint\u001b[0m \u001b[0;34m(\u001b[0m\u001b[0;34m\"Test accuracy : %.4g\"\u001b[0m \u001b[0;34m%\u001b[0m \u001b[0mmetrics\u001b[0m\u001b[0;34m.\u001b[0m\u001b[0maccuracy_score\u001b[0m\u001b[0;34m(\u001b[0m\u001b[0mdtest\u001b[0m\u001b[0;34m[\u001b[0m\u001b[0mtarget\u001b[0m\u001b[0;34m]\u001b[0m\u001b[0;34m.\u001b[0m\u001b[0mvalues\u001b[0m\u001b[0;34m,\u001b[0m \u001b[0mtest_result\u001b[0m\u001b[0;34m)\u001b[0m\u001b[0;34m)\u001b[0m\u001b[0;34m\u001b[0m\u001b[0m\n\u001b[0;32m----> 8\u001b[0;31m     \u001b[0mprint\u001b[0m \u001b[0;34m(\u001b[0m\u001b[0;34m\"AUC Score (Train): %f\"\u001b[0m \u001b[0;34m%\u001b[0m \u001b[0mmetrics\u001b[0m\u001b[0;34m.\u001b[0m\u001b[0mroc_auc_score\u001b[0m\u001b[0;34m(\u001b[0m\u001b[0mdtrain\u001b[0m\u001b[0;34m[\u001b[0m\u001b[0mtarget\u001b[0m\u001b[0;34m]\u001b[0m\u001b[0;34m,\u001b[0m \u001b[0mdtrain_predprob\u001b[0m\u001b[0;34m)\u001b[0m\u001b[0;34m)\u001b[0m\u001b[0;34m\u001b[0m\u001b[0m\n\u001b[0m\u001b[1;32m      9\u001b[0m     \u001b[0mprint\u001b[0m \u001b[0;34m(\u001b[0m\u001b[0;34m\"AUC Score (Test): %f\"\u001b[0m \u001b[0;34m%\u001b[0m \u001b[0mmetrics\u001b[0m\u001b[0;34m.\u001b[0m\u001b[0mroc_auc_score\u001b[0m\u001b[0;34m(\u001b[0m\u001b[0mdtest\u001b[0m\u001b[0;34m[\u001b[0m\u001b[0mtarget\u001b[0m\u001b[0;34m]\u001b[0m\u001b[0;34m,\u001b[0m \u001b[0mdtest_predprob\u001b[0m\u001b[0;34m)\u001b[0m\u001b[0;34m)\u001b[0m\u001b[0;34m\u001b[0m\u001b[0m\n\u001b[1;32m     10\u001b[0m     \u001b[0mprint\u001b[0m \u001b[0;34m(\u001b[0m\u001b[0mpd\u001b[0m\u001b[0;34m.\u001b[0m\u001b[0mcrosstab\u001b[0m\u001b[0;34m(\u001b[0m\u001b[0mdtest\u001b[0m\u001b[0;34m[\u001b[0m\u001b[0mtarget\u001b[0m\u001b[0;34m]\u001b[0m\u001b[0;34m.\u001b[0m\u001b[0mvalues\u001b[0m\u001b[0;34m,\u001b[0m \u001b[0mtest_result\u001b[0m\u001b[0;34m,\u001b[0m \u001b[0mrownames\u001b[0m\u001b[0;34m=\u001b[0m\u001b[0;34m[\u001b[0m\u001b[0;34m'actual'\u001b[0m\u001b[0;34m]\u001b[0m\u001b[0;34m,\u001b[0m \u001b[0mcolnames\u001b[0m\u001b[0;34m=\u001b[0m\u001b[0;34m[\u001b[0m\u001b[0;34m'preds'\u001b[0m\u001b[0;34m]\u001b[0m\u001b[0;34m)\u001b[0m\u001b[0;34m)\u001b[0m\u001b[0;34m\u001b[0m\u001b[0m\n",
      "\u001b[0;31mNameError\u001b[0m: name 'dtrain_predprob' is not defined"
     ]
    }
   ],
   "source": [
    "get_performance(xgb1,train,test,Predictors,dtrain_predictions)"
   ]
  }
 ],
 "metadata": {
  "kernelspec": {
   "display_name": "Python 3",
   "language": "python",
   "name": "python3"
  },
  "language_info": {
   "codemirror_mode": {
    "name": "ipython",
    "version": 3
   },
   "file_extension": ".py",
   "mimetype": "text/x-python",
   "name": "python",
   "nbconvert_exporter": "python",
   "pygments_lexer": "ipython3",
   "version": "3.5.2"
  }
 },
 "nbformat": 4,
 "nbformat_minor": 0
}
