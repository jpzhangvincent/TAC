{
 "cells": [
  {
   "cell_type": "code",
   "execution_count": 2,
   "metadata": {
    "collapsed": false
   },
   "outputs": [],
   "source": [
    "import sqlite3\n",
    "import pandas as pd\n",
    "import os\n",
    "import re\n",
    "import numpy as np\n",
    "from sklearn import cross_validation, metrics\n",
    "from sklearn.metrics import accuracy_score, roc_curve, auc,  precision_recall_curve, average_precision_score\n",
    "from sklearn.grid_search import GridSearchCV\n",
    "from nltk.tokenize import sent_tokenize, word_tokenize, StanfordTokenizer\n",
    "from nltk.corpus import stopwords\n",
    "#from bs4 import BeautifulSoup\n",
    "import matplotlib.pylab as plt\n",
    "%matplotlib inline\n",
    "from matplotlib.pylab import rcParams\n",
    "rcParams['figure.figsize'] = 12, 4\n",
    "import string\n",
    "import seaborn as sns\n",
    "sns.set_style(\"whitegrid\")\n",
    "os.chdir('/Users/RayLJazz//Dropbox/iidata')"
   ]
  },
  {
   "cell_type": "markdown",
   "metadata": {},
   "source": [
    "# Read Data"
   ]
  },
  {
   "cell_type": "code",
   "execution_count": 3,
   "metadata": {
    "collapsed": false
   },
   "outputs": [],
   "source": [
    "ffclean = pd.read_csv('food_p3.csv')"
   ]
  },
  {
   "cell_type": "code",
   "execution_count": 4,
   "metadata": {
    "collapsed": false
   },
   "outputs": [
    {
     "data": {
      "text/plain": [
       "((5608, 18), Index(['country_cleaned', 'brands_cleaned', 'packaging_cleaned',\n",
       "        'catgory_cleaned', 'quan_unit', 'additives_n',\n",
       "        'ingredients_that_may_be_from_palm_oil_n', 'energy_100g', 'fat_100g',\n",
       "        'saturated_fat_100g', 'carbohydrates_100g', 'sugars_100g', 'fiber_100g',\n",
       "        'proteins_100g', 'salt_100g', 'sodium_100g', 'nutrition_score_fr_100g',\n",
       "        'nutrition_score_uk_100g'],\n",
       "       dtype='object'))"
      ]
     },
     "execution_count": 4,
     "metadata": {},
     "output_type": "execute_result"
    }
   ],
   "source": [
    "ffclean.shape, ffclean.columns"
   ]
  },
  {
   "cell_type": "code",
   "execution_count": 5,
   "metadata": {
    "collapsed": true
   },
   "outputs": [],
   "source": [
    "Class = []\n",
    "def identify_class(row):\n",
    "    if (row['country_cleaned']=='United Kingdom'):\n",
    "        Class.append(int(2))\n",
    "    elif (row['country_cleaned']=='Germany'):\n",
    "        Class.append(int(0))\n",
    "    else:\n",
    "        Class.append(int(1))"
   ]
  },
  {
   "cell_type": "code",
   "execution_count": 6,
   "metadata": {
    "collapsed": false
   },
   "outputs": [],
   "source": [
    "ffclean_class = ffclean.apply(identify_class,axis=1)"
   ]
  },
  {
   "cell_type": "code",
   "execution_count": 7,
   "metadata": {
    "collapsed": false
   },
   "outputs": [
    {
     "data": {
      "text/plain": [
       "1    2560\n",
       "0    1870\n",
       "2    1178\n",
       "Name: palm_Class, dtype: int64"
      ]
     },
     "execution_count": 7,
     "metadata": {},
     "output_type": "execute_result"
    }
   ],
   "source": [
    "Class_df = pd.Series(data=Class)\n",
    "ffclean['palm_Class'] = Class_df\n",
    "ffclean['palm_Class'].value_counts()"
   ]
  },
  {
   "cell_type": "code",
   "execution_count": 8,
   "metadata": {
    "collapsed": false
   },
   "outputs": [],
   "source": [
    "#Class_char = pd.Categorical.from_codes(ffclean['palm_Class'], ['No', 'Yes'])\n",
    "#ffclean['Class_char'] = Class_char\n",
    "ffclean=ffclean.replace('NA', np.nan)\n",
    "ffclean=ffclean.replace('NaN', np.nan)\n",
    "ffclean_rna = ffclean"
   ]
  },
  {
   "cell_type": "code",
   "execution_count": 9,
   "metadata": {
    "collapsed": false
   },
   "outputs": [
    {
     "data": {
      "text/plain": [
       "['additives_n',\n",
       " 'ingredients_that_may_be_from_palm_oil_n',\n",
       " 'energy_100g',\n",
       " 'fat_100g',\n",
       " 'saturated_fat_100g',\n",
       " 'carbohydrates_100g',\n",
       " 'sugars_100g',\n",
       " 'fiber_100g',\n",
       " 'proteins_100g',\n",
       " 'salt_100g',\n",
       " 'sodium_100g',\n",
       " 'nutrition_score_fr_100g',\n",
       " 'nutrition_score_uk_100g']"
      ]
     },
     "execution_count": 9,
     "metadata": {},
     "output_type": "execute_result"
    }
   ],
   "source": [
    "ffclean_rna.head(n=10)\n",
    "target = 'palm_Class'\n",
    "Predictors = [x for x in ffclean_rna.columns if x not in ['brands_cleaned','quan_unit','catgory_cleaned','country_cleaned','palm_Class','packaging_cleaned']]\n",
    "Predictors "
   ]
  },
  {
   "cell_type": "code",
   "execution_count": 10,
   "metadata": {
    "collapsed": true
   },
   "outputs": [],
   "source": [
    "import pickle\n",
    "with open('ffclean_rna.pickle', 'wb') as handle:\n",
    "    pickle.dump(ffclean_rna, handle,protocol=2)"
   ]
  },
  {
   "cell_type": "code",
   "execution_count": 11,
   "metadata": {
    "collapsed": true
   },
   "outputs": [],
   "source": [
    "ffclean_rna=pd.read_pickle('ffclean_rna.pickle')"
   ]
  },
  {
   "cell_type": "code",
   "execution_count": 12,
   "metadata": {
    "collapsed": false
   },
   "outputs": [
    {
     "data": {
      "text/plain": [
       "(5608, 13)"
      ]
     },
     "execution_count": 12,
     "metadata": {},
     "output_type": "execute_result"
    }
   ],
   "source": [
    "ffclean_rna[Predictors].shape"
   ]
  },
  {
   "cell_type": "code",
   "execution_count": 13,
   "metadata": {
    "collapsed": false
   },
   "outputs": [],
   "source": [
    "train_x, test_x, train_y, test_y = cross_validation.train_test_split(ffclean_rna[Predictors], ffclean_rna['palm_Class'], test_size=0.3,random_state=1,stratify=ffclean['palm_Class'])"
   ]
  },
  {
   "cell_type": "code",
   "execution_count": 14,
   "metadata": {
    "collapsed": false
   },
   "outputs": [
    {
     "data": {
      "text/plain": [
       "((3925, 13), (1683, 13), (3925,), (1683,))"
      ]
     },
     "execution_count": 14,
     "metadata": {},
     "output_type": "execute_result"
    }
   ],
   "source": [
    "train_x.shape, test_x.shape, train_y.shape, test_y.shape"
   ]
  },
  {
   "cell_type": "code",
   "execution_count": 15,
   "metadata": {
    "collapsed": false
   },
   "outputs": [
    {
     "data": {
      "text/plain": [
       "(1    1792\n",
       " 0    1309\n",
       " 2     824\n",
       " Name: palm_Class, dtype: int64, 1    768\n",
       " 0    561\n",
       " 2    354\n",
       " Name: palm_Class, dtype: int64)"
      ]
     },
     "execution_count": 15,
     "metadata": {},
     "output_type": "execute_result"
    }
   ],
   "source": [
    "train_y.value_counts(),  test_y.value_counts()"
   ]
  },
  {
   "cell_type": "markdown",
   "metadata": {},
   "source": [
    "## Extreme Gradient Boosting"
   ]
  },
  {
   "cell_type": "markdown",
   "metadata": {},
   "source": [
    "### Step 1- Find the number of estimators for a high learning rate"
   ]
  },
  {
   "cell_type": "code",
   "execution_count": 16,
   "metadata": {
    "collapsed": false
   },
   "outputs": [],
   "source": [
    "import xgboost as xgb\n",
    "from xgboost.sklearn import XGBClassifier"
   ]
  },
  {
   "cell_type": "code",
   "execution_count": 17,
   "metadata": {
    "collapsed": false
   },
   "outputs": [],
   "source": [
    "train = train_x\n",
    "train['Score'] = train_y\n",
    "test = test_x\n",
    "test['Score'] = test_y"
   ]
  },
  {
   "cell_type": "code",
   "execution_count": 18,
   "metadata": {
    "collapsed": false
   },
   "outputs": [
    {
     "data": {
      "text/plain": [
       "((3925, 14), (1683, 14))"
      ]
     },
     "execution_count": 18,
     "metadata": {},
     "output_type": "execute_result"
    }
   ],
   "source": [
    "train.shape, test.shape"
   ]
  },
  {
   "cell_type": "code",
   "execution_count": 19,
   "metadata": {
    "collapsed": true
   },
   "outputs": [],
   "source": [
    "def modelfit(alg, dtrain, dtest, predictors,target, useTrainCV=True, cv_folds=5, early_stopping_round=50):\n",
    "    \n",
    "    if useTrainCV:\n",
    "        xgb_param = alg.get_xgb_params()\n",
    "        xgtrain = xgb.DMatrix(dtrain[predictors].values, label=dtrain[target].values,missing=np.nan)\n",
    "        xgtest = xgb.DMatrix(dtest[predictors].values,missing=np.nan)\n",
    "        xgb_param_forcv = xgb_param\n",
    "        xgb_param_forcv['num_class'] = 3\n",
    "        cvresult = xgb.cv(xgb_param_forcv, xgtrain, num_boost_round=alg.get_params()['n_estimators'], nfold=cv_folds,\n",
    "             early_stopping_rounds=early_stopping_round, show_progress=True)\n",
    "        alg.set_params(n_estimators=cvresult.shape[0])\n",
    "    \n",
    "    #Fit the algorithm on the data\n",
    "    alg.fit(dtrain[predictors], dtrain[target],eval_metric='merror')\n",
    "    \n",
    "    #Predict training set:\n",
    "    dtrain_predictions = alg.predict(dtrain[predictors])\n",
    "    #dtrain_predprob = alg.predict_proba(dtrain[predictors])[:,1]\n",
    "    return alg, dtrain_predictions\n",
    "   "
   ]
  },
  {
   "cell_type": "code",
   "execution_count": 20,
   "metadata": {
    "collapsed": false,
    "scrolled": true
   },
   "outputs": [
    {
     "name": "stderr",
     "output_type": "stream",
     "text": [
      "Will train until cv error hasn't decreased in 50 rounds.\n",
      "/Users/RayLJazz/miniconda3/lib/python3.5/xgboost/training.py:272: VisibleDeprecationWarning: using a non-integer number instead of an integer will result in an error in the future\n",
      "  idset = [randidx[(i * kstep): min(len(randidx), (i + 1) * kstep)] for i in range(nfold)]\n",
      "[0]\tcv-test-merror:0.380637+0.01171429823762397\tcv-train-merror:0.3391084+0.015988782350135355\n",
      "[1]\tcv-test-merror:0.3579618+0.02154337913513106\tcv-train-merror:0.31617860000000003+0.017620963431095354\n",
      "[2]\tcv-test-merror:0.3556688+0.02118465817897472\tcv-train-merror:0.30350299999999997+0.01817581825393288\n",
      "[3]\tcv-test-merror:0.34547779999999995+0.018850093977484574\tcv-train-merror:0.29694260000000006+0.013974768758015281\n",
      "[4]\tcv-test-merror:0.34420360000000005+0.017436742844923768\tcv-train-merror:0.296879+0.015652899871908717\n",
      "[5]\tcv-test-merror:0.3391082+0.016181824352031516\tcv-train-merror:0.29019120000000004+0.013012093934490323\n",
      "[6]\tcv-test-merror:0.33910840000000003+0.013610818500002128\tcv-train-merror:0.2873888+0.011146728872633427\n",
      "[7]\tcv-test-merror:0.3388534+0.013931356381917741\tcv-train-merror:0.2864968+0.008371764172502709\n",
      "[8]\tcv-test-merror:0.3426752+0.014657863683361236\tcv-train-merror:0.2846496+0.008029874609232697\n",
      "[9]\tcv-test-merror:0.3401274+0.00970152327420803\tcv-train-merror:0.2794268+0.00794416332661911\n",
      "[10]\tcv-test-merror:0.33656040000000004+0.007951290149403434\tcv-train-merror:0.276497+0.006225532844664783\n",
      "[11]\tcv-test-merror:0.332229+0.00827142988847757\tcv-train-merror:0.2748406+0.007178022028386372\n",
      "[12]\tcv-test-merror:0.3322294+0.011769403631450497\tcv-train-merror:0.272484+0.007185143700720252\n",
      "[13]\tcv-test-merror:0.33019119999999996+0.008986173744147173\tcv-train-merror:0.26987239999999996+0.00785948849735147\n",
      "[14]\tcv-test-merror:0.327134+0.011204675399135841\tcv-train-merror:0.2670062000000001+0.009002457251217583\n",
      "[15]\tcv-test-merror:0.3256052+0.014425857123928553\tcv-train-merror:0.26407640000000004+0.0067988605104090764\n",
      "[16]\tcv-test-merror:0.3253504+0.01604503646116144\tcv-train-merror:0.26293+0.006627283214108176\n",
      "[17]\tcv-test-merror:0.3225478+0.013125286105834045\tcv-train-merror:0.26108260000000005+0.005261744638425541\n",
      "[18]\tcv-test-merror:0.3212738+0.012439856484702711\tcv-train-merror:0.25713379999999997+0.0055143389957455465\n",
      "[19]\tcv-test-merror:0.31974539999999996+0.010839224632786245\tcv-train-merror:0.25394900000000004+0.00548873989181488\n",
      "[20]\tcv-test-merror:0.32076459999999996+0.01267256155005767\tcv-train-merror:0.2531844+0.004296429289538005\n",
      "[21]\tcv-test-merror:0.31898099999999996+0.013204426878891791\tcv-train-merror:0.2503822+0.0036446852484130804\n",
      "[22]\tcv-test-merror:0.31694279999999997+0.010108084574240561\tcv-train-merror:0.24859879999999998+0.003150240333688842\n",
      "[23]\tcv-test-merror:0.31566879999999997+0.009978800136288931\tcv-train-merror:0.24592359999999996+0.0042123875225339785\n",
      "[24]\tcv-test-merror:0.31592339999999997+0.010030724033687698\tcv-train-merror:0.24401260000000002+0.0037703172598602384\n",
      "[25]\tcv-test-merror:0.31566879999999997+0.009270578890231182\tcv-train-merror:0.2430574+0.003408782398452562\n",
      "[26]\tcv-test-merror:0.31668779999999996+0.010797447001953748\tcv-train-merror:0.2404458+0.003203893968282968\n",
      "[27]\tcv-test-merror:0.31592359999999997+0.009361187736606932\tcv-train-merror:0.2377072+0.0031436313651571745\n",
      "[28]\tcv-test-merror:0.3128664+0.008549453283105298\tcv-train-merror:0.235032+0.0033946781290720355\n",
      "[29]\tcv-test-merror:0.3123568+0.010139831544951829\tcv-train-merror:0.23248419999999997+0.0028558189998667593\n",
      "[30]\tcv-test-merror:0.3113374+0.01132528775086974\tcv-train-merror:0.2295542+0.0029146522537002576\n",
      "[31]\tcv-test-merror:0.3105734+0.010578612377812135\tcv-train-merror:0.22770700000000002+0.0023053318199339487\n",
      "[32]\tcv-test-merror:0.3113376+0.011296647159223844\tcv-train-merror:0.22656040000000002+0.0018958768525407976\n",
      "[33]\tcv-test-merror:0.3098088+0.012042096285946234\tcv-train-merror:0.22541419999999998+0.0018504679840516077\n",
      "[34]\tcv-test-merror:0.3103184+0.01204750756961788\tcv-train-merror:0.2228024+0.0018527351240800773\n",
      "[35]\tcv-test-merror:0.3087898+0.010706751186050793\tcv-train-merror:0.22146499999999997+0.0021181674154797034\n",
      "[36]\tcv-test-merror:0.310573+0.010043274943961266\tcv-train-merror:0.22006360000000003+0.002812712043562229\n",
      "[37]\tcv-test-merror:0.30675179999999996+0.009093815533647033\tcv-train-merror:0.2175796+0.002182322304335451\n",
      "[38]\tcv-test-merror:0.30522299999999997+0.00771086096360193\tcv-train-merror:0.2157324+0.0023017811885581137\n",
      "[39]\tcv-test-merror:0.30343939999999997+0.007268826469245231\tcv-train-merror:0.2134396+0.002343724011055911\n",
      "[40]\tcv-test-merror:0.30394899999999997+0.008396027298669298\tcv-train-merror:0.21152880000000002+0.0022911908170207035\n",
      "[41]\tcv-test-merror:0.30369419999999997+0.005730819641203176\tcv-train-merror:0.21006400000000003+0.0029984656743074433\n",
      "[42]\tcv-test-merror:0.30343960000000003+0.005428352331969627\tcv-train-merror:0.20796160000000002+0.002776480981386338\n",
      "[43]\tcv-test-merror:0.30318439999999997+0.0036919197499404076\tcv-train-merror:0.20700639999999998+0.002610435105494865\n",
      "[44]\tcv-test-merror:0.30191080000000003+0.0068360324867572245\tcv-train-merror:0.2045222+0.003438305245320716\n",
      "[45]\tcv-test-merror:0.30114659999999993+0.007366337097906945\tcv-train-merror:0.20203819999999997+0.004336943781051353\n",
      "[46]\tcv-test-merror:0.30038219999999993+0.006614145338590627\tcv-train-merror:0.2006368+0.0035636071276166272\n",
      "[47]\tcv-test-merror:0.29987259999999993+0.007752772809775875\tcv-train-merror:0.1987898+0.0034144790759353012\n",
      "[48]\tcv-test-merror:0.2988536+0.007005128881041381\tcv-train-merror:0.1965604+0.002900771800745447\n",
      "[49]\tcv-test-merror:0.2963058+0.009754907511606648\tcv-train-merror:0.1949682+0.002621682162276729\n",
      "[50]\tcv-test-merror:0.2965606+0.008579370946637046\tcv-train-merror:0.19210220000000003+0.003537069204864393\n",
      "[51]\tcv-test-merror:0.296051+0.008549042028204088\tcv-train-merror:0.19082800000000003+0.003995146355266597\n",
      "[52]\tcv-test-merror:0.2922294+0.007668720065304252\tcv-train-merror:0.18917219999999998+0.0024914857735897256\n",
      "[53]\tcv-test-merror:0.29324859999999997+0.006902421447579092\tcv-train-merror:0.18675139999999996+0.002388430999631349\n",
      "[54]\tcv-test-merror:0.2922292+0.005731130827332421\tcv-train-merror:0.18496819999999997+0.00208746270864895\n",
      "[55]\tcv-test-merror:0.29273899999999997+0.0065649916070014795\tcv-train-merror:0.1829934+0.0027291879085178496\n",
      "[56]\tcv-test-merror:0.2917198+0.007514774391823088\tcv-train-merror:0.1820384+0.003207484659355368\n",
      "[57]\tcv-test-merror:0.29299379999999997+0.006545190949086213\tcv-train-merror:0.1803182+0.0031998135820700494\n",
      "[58]\tcv-test-merror:0.2932484+0.006564937276166476\tcv-train-merror:0.178726+0.003129579844004621\n",
      "[59]\tcv-test-merror:0.292484+0.006475352839807272\tcv-train-merror:0.17706999999999998+0.0025238228146999536\n",
      "[60]\tcv-test-merror:0.2912104+0.007454190086119351\tcv-train-merror:0.17528660000000001+0.0018082616624814022\n",
      "[61]\tcv-test-merror:0.2901912+0.008192693803627717\tcv-train-merror:0.17439480000000002+0.0024136585011140213\n",
      "[62]\tcv-test-merror:0.289172+0.0076008113514282145\tcv-train-merror:0.1726752+0.002326467055429754\n",
      "[63]\tcv-test-merror:0.289172+0.006788755791748591\tcv-train-merror:0.1717196+0.00202812727411275\n",
      "[64]\tcv-test-merror:0.29019120000000004+0.007991902962373851\tcv-train-merror:0.16968160000000002+0.0031098781069360286\n",
      "[65]\tcv-test-merror:0.289172+0.009768292747455927\tcv-train-merror:0.1680892+0.0026059241278287475\n",
      "[66]\tcv-test-merror:0.2876432+0.009057975809197113\tcv-train-merror:0.16726100000000002+0.003050794519465378\n",
      "[67]\tcv-test-merror:0.2878982+0.008216308889032839\tcv-train-merror:0.1666878+0.00359526284991793\n",
      "[68]\tcv-test-merror:0.2889172+0.009340276706821917\tcv-train-merror:0.1652866+0.0030745965328803702\n",
      "[69]\tcv-test-merror:0.2873884+0.009688235125140185\tcv-train-merror:0.16331219999999996+0.0031746391542976948\n",
      "[70]\tcv-test-merror:0.2871336+0.009887228238490302\tcv-train-merror:0.16210180000000002+0.0035973210810268295\n",
      "[71]\tcv-test-merror:0.28433119999999995+0.009200585707442754\tcv-train-merror:0.1609556+0.0037712750947126593\n",
      "[72]\tcv-test-merror:0.2853502+0.009498935548786504\tcv-train-merror:0.16012739999999998+0.003017073124735292\n",
      "[73]\tcv-test-merror:0.28585999999999995+0.009277870466868994\tcv-train-merror:0.15821619999999997+0.0037106668080009574\n",
      "[74]\tcv-test-merror:0.28560519999999995+0.009165235783109996\tcv-train-merror:0.1575158+0.004160134247833838\n",
      "[75]\tcv-test-merror:0.2835666+0.009207412505150402\tcv-train-merror:0.1566878+0.0038795582944453877\n",
      "[76]\tcv-test-merror:0.28331199999999995+0.009065539564747366\tcv-train-merror:0.1551592+0.0043358112228278605\n",
      "[77]\tcv-test-merror:0.2828026+0.009079845694724106\tcv-train-merror:0.1532482+0.00483574694954151\n",
      "[78]\tcv-test-merror:0.2830576+0.008913650399247198\tcv-train-merror:0.15203819999999998+0.004932218097367551\n",
      "[79]\tcv-test-merror:0.28203839999999997+0.008993389941507026\tcv-train-merror:0.1507004+0.00459921961206464\n",
      "[80]\tcv-test-merror:0.2817834+0.009781456509129923\tcv-train-merror:0.1494268+0.0042413495210840675\n",
      "[81]\tcv-test-merror:0.28203839999999997+0.008624921346887736\tcv-train-merror:0.14834399999999998+0.004437578573952238\n",
      "[82]\tcv-test-merror:0.27949039999999997+0.008920936690729287\tcv-train-merror:0.1464968+0.005287062072644885\n",
      "[83]\tcv-test-merror:0.27999999999999997+0.008950039620024025\tcv-train-merror:0.1456052+0.004590377474674614\n",
      "[84]\tcv-test-merror:0.2779616+0.008541742740214084\tcv-train-merror:0.1449044+0.005107218953598916\n",
      "[85]\tcv-test-merror:0.2784712+0.008279330634779602\tcv-train-merror:0.1434396+0.0046223879802543685\n",
      "[86]\tcv-test-merror:0.2784712+0.007583594699085655\tcv-train-merror:0.1426116+0.004373082281412044\n",
      "[87]\tcv-test-merror:0.2777068+0.008677470631468598\tcv-train-merror:0.1414652+0.004414671104397238\n",
      "[88]\tcv-test-merror:0.27592340000000004+0.008160715694104285\tcv-train-merror:0.14057340000000002+0.00397075678429188\n",
      "[89]\tcv-test-merror:0.2766878+0.009093770711866445\tcv-train-merror:0.13840739999999999+0.0032764608100815116\n",
      "[90]\tcv-test-merror:0.277452+0.0082321219378724\tcv-train-merror:0.1371336+0.003722617928286494\n",
      "[91]\tcv-test-merror:0.2771974+0.008549185074613833\tcv-train-merror:0.13630599999999998+0.0037895791850811084\n",
      "[92]\tcv-test-merror:0.2779618+0.00880356874000538\tcv-train-merror:0.13554159999999998+0.0038931478060818536\n",
      "[93]\tcv-test-merror:0.275669+0.006958591006805906\tcv-train-merror:0.133567+0.003601106718774108\n",
      "[94]\tcv-test-merror:0.2749046+0.00795129014940342\tcv-train-merror:0.1326116+0.003924349607259784\n",
      "[95]\tcv-test-merror:0.2746498+0.009029367517163099\tcv-train-merror:0.13063699999999998+0.003855513091664978\n",
      "[96]\tcv-test-merror:0.2764332+0.01003052083194088\tcv-train-merror:0.129554+0.0036776594730888296\n",
      "[97]\tcv-test-merror:0.2769428+0.010767170592128646\tcv-train-merror:0.1284074+0.003677877681489691\n",
      "[98]\tcv-test-merror:0.2751594+0.009430259118391175\tcv-train-merror:0.1270702+0.0036140953722888923\n",
      "[99]\tcv-test-merror:0.274395+0.009416485374066055\tcv-train-merror:0.1263058+0.0034512513324879758\n",
      "[100]\tcv-test-merror:0.2751594+0.010839459683951034\tcv-train-merror:0.1249044+0.004207753063096741\n",
      "[101]\tcv-test-merror:0.2754142+0.010609431698257918\tcv-train-merror:0.1238216+0.003850323394209893\n",
      "[102]\tcv-test-merror:0.27566879999999994+0.010646132469587252\tcv-train-merror:0.12254800000000002+0.004060454752857128\n",
      "[103]\tcv-test-merror:0.273121+0.008200496423997757\tcv-train-merror:0.12191079999999999+0.003683600868715284\n",
      "[104]\tcv-test-merror:0.27363039999999994+0.009409669464970594\tcv-train-merror:0.1204456+0.004134746018802118\n",
      "[105]\tcv-test-merror:0.2733758+0.010305053040135202\tcv-train-merror:0.11961780000000002+0.003782083256619291\n",
      "[106]\tcv-test-merror:0.27057339999999996+0.0074104247273688575\tcv-train-merror:0.1185986+0.004285253532756257\n",
      "[107]\tcv-test-merror:0.27261159999999995+0.009430042981874462\tcv-train-merror:0.1173886+0.005073627207432567\n",
      "[108]\tcv-test-merror:0.27108299999999996+0.009022202680055448\tcv-train-merror:0.11656059999999999+0.004693647477175933\n",
      "[109]\tcv-test-merror:0.26980879999999996+0.010298721307036136\tcv-train-merror:0.1157326+0.004031582051750902\n",
      "[110]\tcv-test-merror:0.27031859999999996+0.009375080769785401\tcv-train-merror:0.1147132+0.004345394223773032\n",
      "[111]\tcv-test-merror:0.27006379999999996+0.010095265967769263\tcv-train-merror:0.11413999999999999+0.0041699743404486345\n",
      "[112]\tcv-test-merror:0.26980899999999997+0.009978830773191815\tcv-train-merror:0.1131846+0.004294534088815685\n",
      "[113]\tcv-test-merror:0.26929939999999997+0.009416544899271708\tcv-train-merror:0.112739+0.004394418050208693\n",
      "[114]\tcv-test-merror:0.26904459999999997+0.009946257438856083\tcv-train-merror:0.1119108+0.005293092419370743\n",
      "[115]\tcv-test-merror:0.26878979999999997+0.009701759621841803\tcv-train-merror:0.11101920000000001+0.005005582899123737\n",
      "[116]\tcv-test-merror:0.26929939999999997+0.009519401716494583\tcv-train-merror:0.1095542+0.004645842588809914\n",
      "[117]\tcv-test-merror:0.26878959999999996+0.009221437753409174\tcv-train-merror:0.10891720000000002+0.004732403845827193\n",
      "[118]\tcv-test-merror:0.26878959999999996+0.00949885508048207\tcv-train-merror:0.10802540000000001+0.00423656934795124\n",
      "[119]\tcv-test-merror:0.26827999999999996+0.00941648537406606\tcv-train-merror:0.10687900000000002+0.003990835902414428\n",
      "[120]\tcv-test-merror:0.26878979999999997+0.009734952170401245\tcv-train-merror:0.10605120000000001+0.0038690026828628564\n",
      "[121]\tcv-test-merror:0.2672612+0.010298879636154602\tcv-train-merror:0.10528659999999998+0.003749939018170827\n",
      "[122]\tcv-test-merror:0.2664966+0.0104240777740767\tcv-train-merror:0.10477719999999999+0.003500294010508258\n",
      "[123]\tcv-test-merror:0.2662422+0.010317477664623266\tcv-train-merror:0.10401279999999999+0.0037280708362368888\n",
      "[124]\tcv-test-merror:0.26726099999999997+0.010171940306549183\tcv-train-merror:0.10299339999999998+0.0034217992109415217\n",
      "[125]\tcv-test-merror:0.2657326+0.010209954252590948\tcv-train-merror:0.1019106+0.0028343362256443767\n",
      "[126]\tcv-test-merror:0.2657326+0.010146393006384096\tcv-train-merror:0.101274+0.002883941400236835\n",
      "[127]\tcv-test-merror:0.265223+0.011546680648567358\tcv-train-merror:0.1003184+0.003465213563404136\n",
      "[128]\tcv-test-merror:0.2659876+0.011175383744641611\tcv-train-merror:0.09866240000000001+0.0029353563735941834\n",
      "[129]\tcv-test-merror:0.2657326+0.011296588522204387\tcv-train-merror:0.0978344+0.0028226298800940945\n",
      "[130]\tcv-test-merror:0.265223+0.010999612520448161\tcv-train-merror:0.0968152+0.0031847400145066816\n",
      "[131]\tcv-test-merror:0.2654778+0.01182993544192021\tcv-train-merror:0.095414+0.003163042332944663\n",
      "[132]\tcv-test-merror:0.264204+0.01275426405560116\tcv-train-merror:0.0935032+0.003091812762765559\n",
      "[133]\tcv-test-merror:0.2636944+0.011895725158223852\tcv-train-merror:0.09242059999999999+0.00349657046833036\n",
      "[134]\tcv-test-merror:0.2639492+0.010970196012834036\tcv-train-merror:0.09146499999999999+0.00329355218571074\n",
      "[135]\tcv-test-merror:0.2634396+0.012042168220050728\tcv-train-merror:0.0910828+0.0032539829993409606\n",
      "[136]\tcv-test-merror:0.2639492+0.010999746858905434\tcv-train-merror:0.089809+0.002754425747773933\n",
      "[137]\tcv-test-merror:0.2636944+0.010094988352643105\tcv-train-merror:0.0887898+0.0035489533330265127\n",
      "[138]\tcv-test-merror:0.2634396+0.010486106591104242\tcv-train-merror:0.08757960000000001+0.0030209870969601965\n",
      "[139]\tcv-test-merror:0.264204+0.011467813235312116\tcv-train-merror:0.08636920000000001+0.003050665068472774\n",
      "[140]\tcv-test-merror:0.2636944+0.011192812240004747\tcv-train-merror:0.085796+0.0029849237846216437\n",
      "[141]\tcv-test-merror:0.2631848+0.010976117189607629\tcv-train-merror:0.0850318+0.0027173708175366866\n",
      "[142]\tcv-test-merror:0.2621656+0.010361564526653303\tcv-train-merror:0.08458579999999999+0.0026767115944755777\n",
      "[143]\tcv-test-merror:0.2644588+0.011411072927643566\tcv-train-merror:0.0838852+0.002743917885068723\n",
      "[144]\tcv-test-merror:0.2639492+0.012069098879369574\tcv-train-merror:0.0828024+0.00270253855476661\n",
      "[145]\tcv-test-merror:0.2636944+0.011046849951004127\tcv-train-merror:0.08235680000000001+0.002936972618190373\n",
      "[146]\tcv-test-merror:0.2631848+0.01112298480444885\tcv-train-merror:0.0815924+0.0024289618852505685\n",
      "[147]\tcv-test-merror:0.26293+0.009887078779902591\tcv-train-merror:0.0807006+0.002184268353476743\n",
      "[148]\tcv-test-merror:0.26343939999999993+0.01097004737637901\tcv-train-merror:0.07980879999999999+0.0022301927629691572\n",
      "[149]\tcv-test-merror:0.26318459999999994+0.010615184493921903\tcv-train-merror:0.07955419999999999+0.0023693038977725092\n",
      "[150]\tcv-test-merror:0.26394899999999993+0.010910718784754742\tcv-train-merror:0.0790448+0.002900675190365167\n",
      "[151]\tcv-test-merror:0.26343939999999993+0.011376759443708036\tcv-train-merror:0.0781528+0.003130916824190639\n",
      "[152]\tcv-test-merror:0.26394899999999993+0.0136823558351623\tcv-train-merror:0.0773886+0.002855595951811114\n",
      "[153]\tcv-test-merror:0.26445859999999993+0.013968759753106208\tcv-train-merror:0.0763694+0.0029214783654855276\n",
      "[154]\tcv-test-merror:0.26471339999999993+0.014263091763008462\tcv-train-merror:0.0755412+0.003161642383319149\n",
      "[155]\tcv-test-merror:0.26547779999999993+0.012905919624730347\tcv-train-merror:0.0752226+0.003218850142519839\n",
      "[156]\tcv-test-merror:0.2657324+0.01460466854947417\tcv-train-merror:0.07433120000000001+0.00371741062569095\n",
      "[157]\tcv-test-merror:0.26522299999999993+0.012672448966162772\tcv-train-merror:0.0738852+0.003910761020568761\n",
      "[158]\tcv-test-merror:0.266242+0.013213847993676938\tcv-train-merror:0.0726752+0.0032813991771803715\n",
      "[159]\tcv-test-merror:0.2659872+0.013345827563699451\tcv-train-merror:0.0722294+0.0028514549689588283\n",
      "[160]\tcv-test-merror:0.26445859999999993+0.012626248225027096\tcv-train-merror:0.0717836+0.0029847488068512583\n",
      "[161]\tcv-test-merror:0.26420379999999993+0.012677546977234985\tcv-train-merror:0.0707642+0.0025824027881025833\n",
      "[162]\tcv-test-merror:0.2624204+0.0145913962128372\tcv-train-merror:0.0701912+0.002615469242793728\n",
      "[163]\tcv-test-merror:0.26369419999999993+0.014344787002949881\tcv-train-merror:0.06980900000000001+0.002067988394551575\n",
      "[164]\tcv-test-merror:0.26369419999999993+0.014253981638826388\tcv-train-merror:0.0689174+0.0020989597995197526\n",
      "[165]\tcv-test-merror:0.26216539999999994+0.013563200339152991\tcv-train-merror:0.0684078+0.002308821812093779\n",
      "[166]\tcv-test-merror:0.2619108+0.01417619239993588\tcv-train-merror:0.0678344+0.0021126296977937243\n",
      "[167]\tcv-test-merror:0.2611464+0.012507579983354096\tcv-train-merror:0.06706999999999999+0.002809730093799049\n",
      "[168]\tcv-test-merror:0.2619108+0.012549032781852154\tcv-train-merror:0.0665604+0.0027174880018134423\n",
      "[169]\tcv-test-merror:0.2634396+0.013491363557476313\tcv-train-merror:0.0655414+0.0017834071436438725\n",
      "[170]\tcv-test-merror:0.26394899999999993+0.013563230396922402\tcv-train-merror:0.0649044+0.0019152619246463381\n",
      "[171]\tcv-test-merror:0.26242019999999994+0.012815058944850776\tcv-train-merror:0.0644588+0.0023017313831114154\n",
      "[172]\tcv-test-merror:0.26267499999999994+0.0135871240371169\tcv-train-merror:0.064204+0.0023628586923470454\n",
      "[173]\tcv-test-merror:0.2608916+0.01236139436471468\tcv-train-merror:0.0634396+0.0022374359074619323\n",
      "[174]\tcv-test-merror:0.2614012+0.012901046149828316\tcv-train-merror:0.06254760000000001+0.002488241756743102\n",
      "[175]\tcv-test-merror:0.2603822+0.01252297556333957\tcv-train-merror:0.061847000000000006+0.0024700991882918386\n",
      "[176]\tcv-test-merror:0.2606368+0.012340376418894199\tcv-train-merror:0.061019199999999996+0.0020599393583307247\n",
      "[177]\tcv-test-merror:0.2608916+0.012335126664935388\tcv-train-merror:0.06070040000000001+0.002714302901298971\n",
      "[178]\tcv-test-merror:0.2606368+0.01212813079414961\tcv-train-merror:0.060382000000000005+0.0026840764519663\n",
      "[179]\tcv-test-merror:0.2603822+0.01310557884871935\tcv-train-merror:0.059745000000000006+0.002371134074657105\n",
      "[180]\tcv-test-merror:0.260637+0.012444976078723496\tcv-train-merror:0.0590446+0.0017742469501171487\n",
      "[181]\tcv-test-merror:0.2606368+0.013005948229944633\tcv-train-merror:0.058726+0.0018742432072706048\n",
      "[182]\tcv-test-merror:0.2591082+0.013758048152263459\tcv-train-merror:0.0582168+0.0018172644716716387\n",
      "[183]\tcv-test-merror:0.2598726+0.012966152792559558\tcv-train-merror:0.057452199999999995+0.0020001059371943276\n",
      "[184]\tcv-test-merror:0.260382+0.013543870687510269\tcv-train-merror:0.0567516+0.0017255887806774807\n",
      "[185]\tcv-test-merror:0.2606368+0.013005948229944633\tcv-train-merror:0.056305799999999996+0.0020383999999999984\n",
      "[186]\tcv-test-merror:0.2611464+0.01194983619301955\tcv-train-merror:0.0559872+0.0017139322507030421\n",
      "[187]\tcv-test-merror:0.2611464+0.01229786815021205\tcv-train-merror:0.055604999999999995+0.002165647062658179\n",
      "[188]\tcv-test-merror:0.2608918+0.01204202435473372\tcv-train-merror:0.054967999999999996+0.002714096387381995\n",
      "[189]\tcv-test-merror:0.2611464+0.013262966404240037\tcv-train-merror:0.0546496+0.0028099159845091444\n",
      "[190]\tcv-test-merror:0.2614014+0.012439762274255889\tcv-train-merror:0.053949199999999996+0.0028880578526061422\n",
      "[191]\tcv-test-merror:0.2611464+0.013164701145107696\tcv-train-merror:0.053312000000000005+0.002984923784621645\n",
      "[192]\tcv-test-merror:0.2601276+0.012749212706673308\tcv-train-merror:0.051655999999999994+0.0030238028374879205\n",
      "[193]\tcv-test-merror:0.2601274+0.012774453469326975\tcv-train-merror:0.0510826+0.0033861802432829844\n",
      "[194]\tcv-test-merror:0.2608918+0.012491826870398102\tcv-train-merror:0.0501274+0.003851363893479816\n",
      "[195]\tcv-test-merror:0.2598726+0.012192014822825637\tcv-train-merror:0.0500636+0.003732527754752804\n",
      "[196]\tcv-test-merror:0.2598724+0.014479716220976149\tcv-train-merror:0.0498726+0.004303889338726078\n",
      "[197]\tcv-test-merror:0.2596178+0.013563189070421453\tcv-train-merror:0.05+0.004435890124879109\n",
      "[198]\tcv-test-merror:0.2596176+0.014443808951935075\tcv-train-merror:0.0489808+0.0038289753407406524\n",
      "[199]\tcv-test-merror:0.2578342+0.013734414765835493\tcv-train-merror:0.0480892+0.00374658940371106\n",
      "[200]\tcv-test-merror:0.2585984+0.014116497959479887\tcv-train-merror:0.0478344+0.0034559952314781915\n",
      "[201]\tcv-test-merror:0.2591082+0.013922193884585862\tcv-train-merror:0.0473886+0.003964601397366449\n",
      "[202]\tcv-test-merror:0.2593628+0.013591695279103335\tcv-train-merror:0.0466876+0.0032887521402501594\n",
      "[203]\tcv-test-merror:0.2588532+0.013658401215369237\tcv-train-merror:0.045668799999999996+0.003018578102352166\n",
      "[204]\tcv-test-merror:0.2585988+0.012403393251848473\tcv-train-merror:0.0453504+0.002831269086469882\n",
      "[205]\tcv-test-merror:0.2591084+0.012154900338546597\tcv-train-merror:0.045159200000000004+0.0026369305944601595\n",
      "[206]\tcv-test-merror:0.2588536+0.012901077747227175\tcv-train-merror:0.044267600000000004+0.002724639763344871\n",
      "[207]\tcv-test-merror:0.258089+0.013805127105535817\tcv-train-merror:0.043758+0.002661494843128575\n",
      "[208]\tcv-test-merror:0.2585986+0.013115467259689989\tcv-train-merror:0.043121+0.0023193646543827476\n",
      "[209]\tcv-test-merror:0.2588534+0.012774453469326978\tcv-train-merror:0.042420400000000004+0.002246434294610016\n",
      "[210]\tcv-test-merror:0.2585986+0.013553619791037374\tcv-train-merror:0.0421018+0.0018612970101517905\n",
      "[211]\tcv-test-merror:0.25707+0.013917255232264726\tcv-train-merror:0.041210199999999995+0.0016559461827003925\n",
      "[212]\tcv-test-merror:0.2580892+0.013921915721623934\tcv-train-merror:0.040892+0.0013896232582970096\n",
      "[213]\tcv-test-merror:0.2583438+0.014079830885348008\tcv-train-merror:0.0407008+0.0016287142659165241\n",
      "[214]\tcv-test-merror:0.2583438+0.014102867373693892\tcv-train-merror:0.0403822+0.0015783189031371315\n",
      "[215]\tcv-test-merror:0.2585986+0.012218590190361563\tcv-train-merror:0.0398728+0.0013421663682271288\n",
      "[216]\tcv-test-merror:0.2588534+0.014010490521034577\tcv-train-merror:0.0394904+0.0015859565693927423\n",
      "[217]\tcv-test-merror:0.258089+0.012956079623095862\tcv-train-merror:0.039299600000000004+0.0015936775834528136\n",
      "[218]\tcv-test-merror:0.2575794+0.013658565365366882\tcv-train-merror:0.038408000000000005+0.0013896232582970118\n",
      "[219]\tcv-test-merror:0.2578342+0.01280487885768545\tcv-train-merror:0.038089200000000004+0.0018305847590319338\n",
      "[220]\tcv-test-merror:0.2570698+0.013321703860993149\tcv-train-merror:0.0377708+0.0023370829168003434\n",
      "[221]\tcv-test-merror:0.2573246+0.013214079364072238\tcv-train-merror:0.0372614+0.0017791158028638827\n",
      "[222]\tcv-test-merror:0.2578342+0.013350916528838002\tcv-train-merror:0.036624199999999996+0.0018351445065716207\n",
      "[223]\tcv-test-merror:0.258089+0.01305591516516555\tcv-train-merror:0.035987200000000004+0.0016734144017546875\n",
      "[224]\tcv-test-merror:0.2588534+0.0129510912528636\tcv-train-merror:0.035923800000000006+0.0018723899593834604\n",
      "[225]\tcv-test-merror:0.2588536+0.012825370007917907\tcv-train-merror:0.0359236+0.0017721094322868452\n",
      "[226]\tcv-test-merror:0.258344+0.012387655726569089\tcv-train-merror:0.035032+0.0018896473745119732\n",
      "[227]\tcv-test-merror:0.2591084+0.012956299866860133\tcv-train-merror:0.034267599999999995+0.002060056853584385\n",
      "[228]\tcv-test-merror:0.259363+0.013302207155205477\tcv-train-merror:0.0338852+0.0020500417946959027\n",
      "[229]\tcv-test-merror:0.2583438+0.014102867373693892\tcv-train-merror:0.0336942+0.002163584192953905\n",
      "[230]\tcv-test-merror:0.2596178+0.013075798597408879\tcv-train-merror:0.0329936+0.0018193209282586745\n",
      "[231]\tcv-test-merror:0.2591082+0.012677530901559658\tcv-train-merror:0.032802399999999995+0.0019630738753292\n",
      "[232]\tcv-test-merror:0.2591082+0.013155004681109013\tcv-train-merror:0.0321018+0.001861454420607714\n",
      "[233]\tcv-test-merror:0.2585986+0.013767467938586238\tcv-train-merror:0.031847+0.0021599362027615544\n",
      "[234]\tcv-test-merror:0.25707+0.014421695156950173\tcv-train-merror:0.0315288+0.001963203647103377\n",
      "[235]\tcv-test-merror:0.2580892+0.014267828572000719\tcv-train-merror:0.031210200000000004+0.002034133073326326\n",
      "[236]\tcv-test-merror:0.2575796+0.014821289520146353\tcv-train-merror:0.030891999999999996+0.002269800079302139\n",
      "[237]\tcv-test-merror:0.2565602+0.013734396213885768\tcv-train-merror:0.030254999999999997+0.0019836362569785816\n",
      "[238]\tcv-test-merror:0.2560506+0.012991105412550535\tcv-train-merror:0.029872799999999998+0.0021448546244442774\n",
      "[239]\tcv-test-merror:0.256815+0.014222048460049617\tcv-train-merror:0.0296178+0.002234016866543313\n",
      "[240]\tcv-test-merror:0.256815+0.014153426468526974\tcv-train-merror:0.0296178+0.002122121334891104\n",
      "[241]\tcv-test-merror:0.2552866+0.012956390324469234\tcv-train-merror:0.0293628+0.002018218858300557\n",
      "[242]\tcv-test-merror:0.2565604+0.013080817323088027\tcv-train-merror:0.028535000000000005+0.0019066751165313924\n",
      "[243]\tcv-test-merror:0.25605120000000003+0.012662182393252754\tcv-train-merror:0.0281526+0.001959020020316281\n",
      "[244]\tcv-test-merror:0.256051+0.01203152053565966\tcv-train-merror:0.027898+0.0018305708399294469\n",
      "[245]\tcv-test-merror:0.2568152+0.013031074911917274\tcv-train-merror:0.0276432+0.0018280602178265353\n",
      "[246]\tcv-test-merror:0.2555412+0.012445004739251805\tcv-train-merror:0.0271336+0.0016900992396897889\n",
      "[247]\tcv-test-merror:0.2555412+0.012366525840348206\tcv-train-merror:0.027006399999999996+0.0014717739772125344\n",
      "[248]\tcv-test-merror:0.2568152+0.011636488102516154\tcv-train-merror:0.0266878+0.001054362252738593\n",
      "[249]\tcv-test-merror:0.2570702+0.012492120562978899\tcv-train-merror:0.026497+0.0009317276426080753\n",
      "[250]\tcv-test-merror:0.2568152+0.011966520002072448\tcv-train-merror:0.0261784+0.0010920991896343486\n",
      "[251]\tcv-test-merror:0.25707+0.012646988511104133\tcv-train-merror:0.025923799999999997+0.0011321984631680081\n",
      "[252]\tcv-test-merror:0.256051+0.011450967959085385\tcv-train-merror:0.025414000000000003+0.0011642803786030232\n",
      "[253]\tcv-test-merror:0.2568152+0.011966520002072448\tcv-train-merror:0.024968200000000003+0.0011142034643636684\n",
      "[254]\tcv-test-merror:0.255796+0.012543898787856974\tcv-train-merror:0.0248408+0.0012897279403036904\n",
      "[255]\tcv-test-merror:0.2550316+0.012413841010742792\tcv-train-merror:0.024904600000000002+0.0015521590897842911\n",
      "[256]\tcv-test-merror:0.2550318+0.013026021378763354\tcv-train-merror:0.024586+0.0015782704457728395\n",
      "[257]\tcv-test-merror:0.2563056+0.014010723287539446\tcv-train-merror:0.0236304+0.0012316821992705744\n",
      "[258]\tcv-test-merror:0.2555414+0.013828580687836317\tcv-train-merror:0.023949000000000005+0.0010152235221861246\n",
      "[259]\tcv-test-merror:0.2555414+0.013302145865987179\tcv-train-merror:0.023566800000000002+0.0008303930153848836\n",
      "[260]\tcv-test-merror:0.25681539999999997+0.012779446992730148\tcv-train-merror:0.023375600000000003+0.0009141694810044792\n",
      "[261]\tcv-test-merror:0.2557962+0.01351516935003035\tcv-train-merror:0.023121000000000003+0.0007428461482702859\n",
      "[262]\tcv-test-merror:0.25656059999999997+0.013130231583639324\tcv-train-merror:0.0229298+0.0009005712409354416\n",
      "[263]\tcv-test-merror:0.25656059999999997+0.01373434427411808\tcv-train-merror:0.0224842+0.000685995743427027\n",
      "[264]\tcv-test-merror:0.2557962+0.013026001817902514\tcv-train-merror:0.0223568+0.0010540843230026709\n",
      "[265]\tcv-test-merror:0.2555414+0.013875431346087937\tcv-train-merror:0.0219746+0.001480254248431668\n",
      "[266]\tcv-test-merror:0.2557962+0.013563140232261845\tcv-train-merror:0.021528799999999997+0.0012185168689845863\n",
      "[267]\tcv-test-merror:0.25656059999999997+0.013687010683125805\tcv-train-merror:0.020955599999999998+0.0012316821992705749\n",
      "[268]\tcv-test-merror:0.25681539999999997+0.014015098195874338\tcv-train-merror:0.020828+0.0010770164344149995\n",
      "[269]\tcv-test-merror:0.25706999999999997+0.014443745456078905\tcv-train-merror:0.020446+0.000790592942037811\n",
      "[270]\tcv-test-merror:0.25757979999999997+0.014398906880732304\tcv-train-merror:0.020255000000000002+0.0009361813926798596\n",
      "[271]\tcv-test-merror:0.2563058+0.013150014272235595\tcv-train-merror:0.0198088+0.0009949233940359432\n",
      "[272]\tcv-test-merror:0.2570698+0.014125866294142803\tcv-train-merror:0.019617799999999998+0.000868781537557054\n",
      "[273]\tcv-test-merror:0.2570698+0.013248419232497127\tcv-train-merror:0.0194268+0.0010073119477103406\n",
      "[274]\tcv-test-merror:0.25707+0.013394819595649652\tcv-train-merror:0.0194268+0.0009232387340227882\n",
      "[275]\tcv-test-merror:0.25707+0.012976335938931296\tcv-train-merror:0.0192994+0.0009992612471220927\n",
      "[276]\tcv-test-merror:0.2580892+0.012652096781166348\tcv-train-merror:0.019554+0.0009360452980491917\n",
      "[277]\tcv-test-merror:0.25707+0.013443200987859992\tcv-train-merror:0.019044600000000002+0.0008872958018609128\n",
      "[278]\tcv-test-merror:0.2573248+0.013066067356324164\tcv-train-merror:0.0188534+0.0010151984239546476\n",
      "[279]\tcv-test-merror:0.258089+0.014290358763865935\tcv-train-merror:0.0185984+0.0010959362390212308\n",
      "[280]\tcv-test-merror:0.2575796+0.013273102268874442\tcv-train-merror:0.0185348+0.001110613055929022\n",
      "[281]\tcv-test-merror:0.2578344+0.01352024357177044\tcv-train-merror:0.018025600000000003+0.0009361949796917303\n",
      "[282]\tcv-test-merror:0.2573248+0.012815257756284117\tcv-train-merror:0.0179618+0.0008684002303085833\n",
      "[283]\tcv-test-merror:0.2575796+0.013515455887242582\tcv-train-merror:0.0178344+0.0010845370625294458\n",
      "[284]\tcv-test-merror:0.2573248+0.013409375144278729\tcv-train-merror:0.0177068+0.0013749272562575804\n",
      "[285]\tcv-test-merror:0.258089+0.01456037804454266\tcv-train-merror:0.017133799999999998+0.0011814589963261527\n",
      "[286]\tcv-test-merror:0.2583438+0.014240303738333673\tcv-train-merror:0.0170066+0.0011672911547681668\n",
      "[287]\tcv-test-merror:0.2580892+0.012855714533233855\tcv-train-merror:0.0167516+0.0011140090843435708\n",
      "[288]\tcv-test-merror:0.2578344+0.014061588325647998\tcv-train-merror:0.0167516+0.0011140090843435708\n",
      "[289]\tcv-test-merror:0.25707+0.013563399455888626\tcv-train-merror:0.016242+0.0005697501206669468\n",
      "[290]\tcv-test-merror:0.2575796+0.013321925710647086\tcv-train-merror:0.0161784+0.0005096750337224691\n",
      "[291]\tcv-test-merror:0.2573248+0.012533526916235497\tcv-train-merror:0.0157964+0.00032472917947114\n",
      "[292]\tcv-test-merror:0.2578344+0.01344802197499691\tcv-train-merror:0.0155416+0.00037156888997869574\n",
      "[293]\tcv-test-merror:0.2575796+0.014308715632089408\tcv-train-merror:0.0154778+0.0004322408587813051\n",
      "[294]\tcv-test-merror:0.2570702+0.014443925372280212\tcv-train-merror:0.0153506+0.0004224777390585216\n",
      "[295]\tcv-test-merror:0.257325+0.015180220130156224\tcv-train-merror:0.0150956+0.00043182802132330454\n",
      "[296]\tcv-test-merror:0.25707019999999997+0.014398906880732294\tcv-train-merror:0.014713599999999999+0.0004224777390585216\n",
      "[297]\tcv-test-merror:0.2575796+0.01430871563208941\tcv-train-merror:0.0142676+0.0004680703365948324\n",
      "[298]\tcv-test-merror:0.2575794+0.014376405024901033\tcv-train-merror:0.014331199999999999+0.0006043113105014664\n",
      "[299]\tcv-test-merror:0.2575794+0.013894178717722026\tcv-train-merror:0.0142674+0.00042247773905852156\n",
      "[300]\tcv-test-merror:0.258089+0.01426762500208075\tcv-train-merror:0.013885399999999997+0.0008209188997702517\n",
      "[301]\tcv-test-merror:0.259363+0.013687070248961241\tcv-train-merror:0.013757799999999997+0.0009949233940359432\n",
      "[302]\tcv-test-merror:0.258344+0.012901069847109578\tcv-train-merror:0.013312000000000001+0.0009320010729607556\n",
      "[303]\tcv-test-merror:0.2585988+0.013577736753966025\tcv-train-merror:0.013312000000000001+0.0009742396009196098\n",
      "[304]\tcv-test-merror:0.2583438+0.013940830856157738\tcv-train-merror:0.013312200000000001+0.0008156331037911592\n",
      "[305]\tcv-test-merror:0.25681519999999997+0.014825212138785725\tcv-train-merror:0.013248199999999998+0.0006859957434270272\n",
      "Stopping. Best iteration: 255\n",
      "/Users/RayLJazz/miniconda3/lib/python3.5/xgboost/core.py:840: VisibleDeprecationWarning: using a non-integer number instead of an integer will result in an error in the future\n",
      "  preds = preds.reshape(nrow, preds.size / nrow)\n"
     ]
    }
   ],
   "source": [
    "xgb1 = XGBClassifier(\n",
    "        learning_rate =0.1,\n",
    "        n_estimators=1000,\n",
    "        max_depth=5,\n",
    "        min_child_weight=1,\n",
    "        gamma=0,\n",
    "        subsample=0.8,\n",
    "        colsample_bytree=0.8,\n",
    "        objective= 'multi:softmax',\n",
    "        nthread=4,\n",
    "        scale_pos_weight=1,\n",
    "        seed=27)\n",
    "xgb1, dtrain_predictions = modelfit(xgb1, train, test, Predictors,'Score')"
   ]
  },
  {
   "cell_type": "code",
   "execution_count": 21,
   "metadata": {
    "collapsed": true
   },
   "outputs": [],
   "source": [
    "target = 'Score'\n",
    "def get_performance(xgbmodel,dtrain,dtest,predictors,dtrain_predictions):\n",
    "    print (\"\\nModel Report\")\n",
    "    print (\"Train accuracy : %.4g\" % metrics.accuracy_score(dtrain[target].values, dtrain_predictions))\n",
    "    test_result = xgbmodel.predict(dtest[predictors])\n",
    "    dtest_predprob = xgbmodel.predict_proba(dtest[predictors])[:,1]\n",
    "    print (\"Test accuracy : %.4g\" % metrics.accuracy_score(dtest[target].values, test_result))\n",
    "    print (pd.crosstab(dtest[target].values, test_result, rownames=['actual'], colnames=['preds']))\n",
    "    feat_imp = pd.Series(xgbmodel.booster().get_fscore()).sort_values(ascending=False)\n",
    "    feat_imp.plot(kind='barh', title='Feature Importances').invert_yaxis()\n",
    "    plt.ylabel('Feature Importance Score')"
   ]
  },
  {
   "cell_type": "code",
   "execution_count": 22,
   "metadata": {
    "collapsed": false
   },
   "outputs": [
    {
     "name": "stderr",
     "output_type": "stream",
     "text": [
      "/Users/RayLJazz/miniconda3/lib/python3.5/xgboost/core.py:840: VisibleDeprecationWarning: using a non-integer number instead of an integer will result in an error in the future\n",
      "  preds = preds.reshape(nrow, preds.size / nrow)\n"
     ]
    },
    {
     "name": "stdout",
     "output_type": "stream",
     "text": [
      "\n",
      "Model Report\n",
      "Train accuracy : 0.9597\n",
      "Test accuracy : 0.7594\n",
      "preds     0    1    2\n",
      "actual               \n",
      "0       415  117   29\n",
      "1        66  664   38\n",
      "2        55  100  199\n"
     ]
    },
    {
     "data": {
      "image/png": "[encoded data removed]",
      "text/plain": [
       "<matplotlib.figure.Figure at 0x10aeedb38>"
      ]
     },
     "metadata": {},
     "output_type": "display_data"
    }
   ],
   "source": [
    "get_performance(xgb1,train,test,Predictors,dtrain_predictions)"
   ]
  }
 ],
 "metadata": {
  "kernelspec": {
   "display_name": "Python 3",
   "language": "python",
   "name": "python3"
  },
  "language_info": {
   "codemirror_mode": {
    "name": "ipython",
    "version": 3
   },
   "file_extension": ".py",
   "mimetype": "text/x-python",
   "name": "python",
   "nbconvert_exporter": "python",
   "pygments_lexer": "ipython3",
   "version": "3.5.2"
  }
 },
 "nbformat": 4,
 "nbformat_minor": 0
}
