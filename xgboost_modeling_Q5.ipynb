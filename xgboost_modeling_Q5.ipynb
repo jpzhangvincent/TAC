{
 "cells": [
  {
   "cell_type": "code",
   "execution_count": 1,
   "metadata": {
    "collapsed": false
   },
   "outputs": [],
   "source": [
    "import sqlite3\n",
    "import pandas as pd\n",
    "import os\n",
    "import re\n",
    "import numpy as np\n",
    "from sklearn import cross_validation, metrics\n",
    "from sklearn.metrics import accuracy_score, roc_curve, auc,  precision_recall_curve, average_precision_score\n",
    "from sklearn.grid_search import GridSearchCV\n",
    "from nltk.tokenize import sent_tokenize, word_tokenize, StanfordTokenizer\n",
    "from nltk.corpus import stopwords\n",
    "#from bs4 import BeautifulSoup\n",
    "import matplotlib.pylab as plt\n",
    "%matplotlib inline\n",
    "from matplotlib.pylab import rcParams\n",
    "rcParams['figure.figsize'] = 12, 4\n",
    "import string\n",
    "import seaborn as sns\n",
    "sns.set_style(\"whitegrid\")\n",
    "os.chdir('/Users/RayLJazz/Dropbox/iidata')"
   ]
  },
  {
   "cell_type": "code",
   "execution_count": 2,
   "metadata": {
    "collapsed": true
   },
   "outputs": [],
   "source": [
    "ffclean = pd.read_csv('cleaned_food.csv')"
   ]
  },
  {
   "cell_type": "code",
   "execution_count": 3,
   "metadata": {
    "collapsed": false
   },
   "outputs": [
    {
     "data": {
      "text/plain": [
       "((31149, 16),\n",
       " Index(['packaging_cleaned', 'catgory_cleaned', 'quan_unit', 'additives_n',\n",
       "        'ingredients_that_may_be_from_palm_oil_n', 'energy_100g', 'fat_100g',\n",
       "        'saturated_fat_100g', 'carbohydrates_100g', 'sugars_100g', 'fiber_100g',\n",
       "        'proteins_100g', 'salt_100g', 'sodium_100g', 'nutrition_score_fr_100g',\n",
       "        'nutrition_score_uk_100g'],\n",
       "       dtype='object'))"
      ]
     },
     "execution_count": 3,
     "metadata": {},
     "output_type": "execute_result"
    }
   ],
   "source": [
    "ffclean.shape, ffclean.columns"
   ]
  },
  {
   "cell_type": "code",
   "execution_count": 4,
   "metadata": {
    "collapsed": true
   },
   "outputs": [],
   "source": [
    "Class = []\n",
    "def identify_class(row):\n",
    "    if (row['ingredients_that_may_be_from_palm_oil_n']==np.nan):\n",
    "        Class.append(np.nan)\n",
    "    elif (row['ingredients_that_may_be_from_palm_oil_n']==0):\n",
    "        Class.append(int(0))\n",
    "    else:\n",
    "        Class.append(int(1))"
   ]
  },
  {
   "cell_type": "code",
   "execution_count": 5,
   "metadata": {
    "collapsed": true
   },
   "outputs": [],
   "source": [
    "ffclean_class = ffclean.apply(identify_class,axis=1)"
   ]
  },
  {
   "cell_type": "code",
   "execution_count": 6,
   "metadata": {
    "collapsed": false
   },
   "outputs": [
    {
     "data": {
      "text/plain": [
       "0    25711\n",
       "1     5438\n",
       "Name: palm_Class, dtype: int64"
      ]
     },
     "execution_count": 6,
     "metadata": {},
     "output_type": "execute_result"
    }
   ],
   "source": [
    "Class_df = pd.Series(data=Class)\n",
    "ffclean['palm_Class'] = Class_df\n",
    "ffclean['palm_Class'].value_counts()"
   ]
  },
  {
   "cell_type": "code",
   "execution_count": 7,
   "metadata": {
    "collapsed": true
   },
   "outputs": [],
   "source": [
    "Class_char = pd.Categorical.from_codes(ffclean['palm_Class'], ['No', 'Yes'])\n",
    "ffclean['Class_char'] = Class_char\n",
    "ffclean_NA=ffclean.replace('NA', np.nan)\n",
    "ffclean_NA=ffclean.replace('NaN', np.nan)\n",
    "#ffclean_rna = ffclean_NA.dropna(axis=0, how='any')\n",
    "ffclean_rna = ffclean"
   ]
  },
  {
   "cell_type": "code",
   "execution_count": 8,
   "metadata": {
    "collapsed": false
   },
   "outputs": [
    {
     "data": {
      "text/plain": [
       "((31149, 18),\n",
       " Index(['packaging_cleaned', 'catgory_cleaned', 'quan_unit', 'additives_n',\n",
       "        'ingredients_that_may_be_from_palm_oil_n', 'energy_100g', 'fat_100g',\n",
       "        'saturated_fat_100g', 'carbohydrates_100g', 'sugars_100g', 'fiber_100g',\n",
       "        'proteins_100g', 'salt_100g', 'sodium_100g', 'nutrition_score_fr_100g',\n",
       "        'nutrition_score_uk_100g', 'palm_Class', 'Class_char'],\n",
       "       dtype='object'))"
      ]
     },
     "execution_count": 8,
     "metadata": {},
     "output_type": "execute_result"
    }
   ],
   "source": [
    "ffclean_rna.shape,ffclean_rna.columns"
   ]
  },
  {
   "cell_type": "code",
   "execution_count": 48,
   "metadata": {
    "collapsed": false
   },
   "outputs": [
    {
     "data": {
      "text/plain": [
       "['catgory_cleaned',\n",
       " 'additives_n',\n",
       " 'energy_100g',\n",
       " 'fat_100g',\n",
       " 'saturated_fat_100g',\n",
       " 'carbohydrates_100g',\n",
       " 'sugars_100g',\n",
       " 'fiber_100g',\n",
       " 'proteins_100g',\n",
       " 'salt_100g',\n",
       " 'sodium_100g',\n",
       " 'nutrition_score_fr_100g',\n",
       " 'nutrition_score_uk_100g']"
      ]
     },
     "execution_count": 48,
     "metadata": {},
     "output_type": "execute_result"
    }
   ],
   "source": [
    "ffclean_rna.head(n=10)\n",
    "target = 'palm_Class'\n",
    "Predictors = [x for x in ffclean.columns if x not in ['ingredients_that_may_be_from_palm_oil_n','quan_unit','Class_char','palm_Class','packaging_cleaned']]\n",
    "Predictors "
   ]
  },
  {
   "cell_type": "code",
   "execution_count": 49,
   "metadata": {
    "collapsed": false
   },
   "outputs": [
    {
     "data": {
      "text/plain": [
       "(31149, 18)"
      ]
     },
     "execution_count": 49,
     "metadata": {},
     "output_type": "execute_result"
    }
   ],
   "source": [
    "ffclean_rna.shape"
   ]
  },
  {
   "cell_type": "code",
   "execution_count": 50,
   "metadata": {
    "collapsed": false
   },
   "outputs": [],
   "source": [
    "train_x, test_x, train_y, test_y = cross_validation.train_test_split(ffclean_rna[Predictors], ffclean_rna['palm_Class'], test_size=0.3,random_state=1,stratify=ffclean_rna['palm_Class'])"
   ]
  },
  {
   "cell_type": "code",
   "execution_count": 51,
   "metadata": {
    "collapsed": false
   },
   "outputs": [
    {
     "data": {
      "text/plain": [
       "(0    17997\n",
       " 1     3807\n",
       " Name: palm_Class, dtype: int64, 0    7714\n",
       " 1    1631\n",
       " Name: palm_Class, dtype: int64)"
      ]
     },
     "execution_count": 51,
     "metadata": {},
     "output_type": "execute_result"
    }
   ],
   "source": [
    "train_y.value_counts(),  test_y.value_counts()"
   ]
  },
  {
   "cell_type": "code",
   "execution_count": 52,
   "metadata": {
    "collapsed": false
   },
   "outputs": [
    {
     "data": {
      "text/plain": [
       "((21804, 13), (9345, 13), (21804,), (9345,))"
      ]
     },
     "execution_count": 52,
     "metadata": {},
     "output_type": "execute_result"
    }
   ],
   "source": [
    "train_x.shape, test_x.shape, train_y.shape, test_y.shape"
   ]
  },
  {
   "cell_type": "markdown",
   "metadata": {},
   "source": [
    "## Extreme Gradient Boosting"
   ]
  },
  {
   "cell_type": "markdown",
   "metadata": {},
   "source": [
    "### Step 1- Find the number of estimators for a high learning rate"
   ]
  },
  {
   "cell_type": "code",
   "execution_count": 53,
   "metadata": {
    "collapsed": false
   },
   "outputs": [],
   "source": [
    "import xgboost as xgb\n",
    "from xgboost.sklearn import XGBClassifier"
   ]
  },
  {
   "cell_type": "code",
   "execution_count": 54,
   "metadata": {
    "collapsed": false
   },
   "outputs": [],
   "source": [
    "train = train_x\n",
    "train['Class'] = train_y\n",
    "test = test_x\n",
    "test['Class'] = test_y\n",
    "target = 'Class'"
   ]
  },
  {
   "cell_type": "code",
   "execution_count": 55,
   "metadata": {
    "collapsed": true
   },
   "outputs": [],
   "source": [
    "def modelfit(alg, dtrain, dtest, predictors,target, useTrainCV=True, cv_folds=5, early_stopping_round=50):\n",
    "    \n",
    "    if useTrainCV:\n",
    "        xgb_param = alg.get_xgb_params()\n",
    "        xgtrain = xgb.DMatrix(dtrain[predictors].values, label=dtrain[target].values,missing=np.nan)\n",
    "        xgtest = xgb.DMatrix(dtest[predictors].values,missing=np.nan)\n",
    "        xgb_param_forcv = xgb_param\n",
    "        #xgb_param_forcv['num_class'] = 5\n",
    "        cvresult = xgb.cv(xgb_param_forcv, xgtrain, num_boost_round=alg.get_params()['n_estimators'], nfold=cv_folds,\n",
    "             early_stopping_rounds=early_stopping_round, show_progress=True)\n",
    "        alg.set_params(n_estimators=cvresult.shape[0])\n",
    "    \n",
    "    #Fit the algorithm on the data\n",
    "    alg.fit(dtrain[predictors], dtrain[target],eval_metric='error')\n",
    "    \n",
    "    #Predict training set:\n",
    "    dtrain_predictions = alg.predict(dtrain[predictors])\n",
    "    dtrain_predprob = alg.predict_proba(dtrain[predictors])[:,1]\n",
    "    return alg, dtrain_predictions, dtrain_predprob\n",
    "   "
   ]
  },
  {
   "cell_type": "code",
   "execution_count": 56,
   "metadata": {
    "collapsed": false,
    "scrolled": true
   },
   "outputs": [
    {
     "name": "stderr",
     "output_type": "stream",
     "text": [
      "Will train until cv error hasn't decreased in 50 rounds.\n",
      "/Users/RayLJazz/miniconda3/lib/python3.5/xgboost/training.py:272: VisibleDeprecationWarning: using a non-integer number instead of an integer will result in an error in the future\n",
      "  idset = [randidx[(i * kstep): min(len(randidx), (i + 1) * kstep)] for i in range(nfold)]\n",
      "[0]\tcv-test-error:0.1166758+0.026197048157378344\tcv-train-error:0.1140504+0.027559885722549728\n",
      "[1]\tcv-test-error:0.101312+0.003968402550145332\tcv-train-error:0.0975396+0.003181408027902112\n",
      "[2]\tcv-test-error:0.1010828+0.006229722510674132\tcv-train-error:0.0971838+0.0016324437386936212\n",
      "[3]\tcv-test-error:0.09956960000000001+0.006879851207693375\tcv-train-error:0.09505140000000001+0.0006086436067190728\n",
      "[4]\tcv-test-error:0.0983772+0.0058901666665723456\tcv-train-error:0.09446659999999998+0.0017557760221622815\n",
      "[5]\tcv-test-error:0.0986062+0.006100717020154272\tcv-train-error:0.09399679999999999+0.001609547190982606\n",
      "[6]\tcv-test-error:0.0985144+0.0058842573227213665\tcv-train-error:0.0939508+0.0013197042699029206\n",
      "[7]\tcv-test-error:0.0972764+0.006388172214334867\tcv-train-error:0.09303340000000002+0.0011188389696466616\n",
      "[8]\tcv-test-error:0.0970468+0.005738640410410811\tcv-train-error:0.09250620000000001+0.0009581844081386414\n",
      "[9]\tcv-test-error:0.0973678+0.005828329791629843\tcv-train-error:0.0926894+0.0012451718917482824\n",
      "[10]\tcv-test-error:0.0968632+0.00555110044585756\tcv-train-error:0.092483+0.0011585375263667517\n",
      "[11]\tcv-test-error:0.0962214+0.006039672527546505\tcv-train-error:0.0919556+0.001284995035009864\n",
      "[12]\tcv-test-error:0.0961294+0.00616407380228368\tcv-train-error:0.0918066+0.001064609712523795\n",
      "[13]\tcv-test-error:0.09502920000000001+0.005935658359440844\tcv-train-error:0.0912678+0.0011812632898723287\n",
      "[14]\tcv-test-error:0.094983+0.005701679331565395\tcv-train-error:0.09048780000000001+0.001345851908643741\n",
      "[15]\tcv-test-error:0.09530439999999998+0.005954834123634342\tcv-train-error:0.0902816+0.0012646037482152252\n",
      "[16]\tcv-test-error:0.0948456+0.005689202038950631\tcv-train-error:0.0902126+0.0013642411223826942\n",
      "[17]\tcv-test-error:0.094616+0.005415690833125539\tcv-train-error:0.0897656+0.0009279331010369226\n",
      "[18]\tcv-test-error:0.09438640000000001+0.005516056837995783\tcv-train-error:0.08949060000000002+0.0009754216729189456\n",
      "[19]\tcv-test-error:0.0942032+0.005540332964723327\tcv-train-error:0.0893186+0.0010220165556388975\n",
      "[20]\tcv-test-error:0.093974+0.005477696304104491\tcv-train-error:0.088963+0.0012025285027807045\n",
      "[21]\tcv-test-error:0.09374459999999998+0.005672078687747553\tcv-train-error:0.0886536+0.001229792437771509\n",
      "[22]\tcv-test-error:0.09296499999999999+0.005283640714507373\tcv-train-error:0.088298+0.0014453673581480944\n",
      "[23]\tcv-test-error:0.0930568+0.0049966642232593525\tcv-train-error:0.088046+0.0015677962877874154\n",
      "[24]\tcv-test-error:0.09291920000000001+0.005088499165765873\tcv-train-error:0.0879198+0.0014877665677114796\n",
      "[25]\tcv-test-error:0.09278139999999999+0.004963004114445203\tcv-train-error:0.0877936+0.0014657656838662852\n",
      "[26]\tcv-test-error:0.09296499999999999+0.005256230626599256\tcv-train-error:0.087656+0.00165463470288762\n",
      "[27]\tcv-test-error:0.09282719999999998+0.005407820610930064\tcv-train-error:0.0875416+0.0015900833437276188\n",
      "[28]\tcv-test-error:0.09273580000000001+0.005311940865634708\tcv-train-error:0.0875414+0.001723783350656339\n",
      "[29]\tcv-test-error:0.09282739999999999+0.005502918156760103\tcv-train-error:0.08728899999999999+0.0017612852125649626\n",
      "[30]\tcv-test-error:0.0926898+0.005633419757127989\tcv-train-error:0.087186+0.0016477950115229756\n",
      "[31]\tcv-test-error:0.0926898+0.00581394260033585\tcv-train-error:0.0868646+0.0015804811419311544\n",
      "[32]\tcv-test-error:0.09278159999999999+0.005777949760944621\tcv-train-error:0.08677300000000002+0.001586868362530426\n",
      "[33]\tcv-test-error:0.0923688+0.005400393370857351\tcv-train-error:0.0867044+0.0014487855051732133\n",
      "[34]\tcv-test-error:0.09209379999999999+0.005185670965265728\tcv-train-error:0.08667+0.0013122906690211553\n",
      "[35]\tcv-test-error:0.0917268+0.005330910068646815\tcv-train-error:0.0864062+0.0013878654689846585\n",
      "[36]\tcv-test-error:0.09135979999999999+0.005631756010339935\tcv-train-error:0.0860624+0.0011119526248901063\n",
      "[37]\tcv-test-error:0.09149739999999999+0.005285092150568429\tcv-train-error:0.0859018+0.0012821211175236126\n",
      "[38]\tcv-test-error:0.0910844+0.005462471111136427\tcv-train-error:0.0857066+0.0012305315274303227\n",
      "[39]\tcv-test-error:0.09117620000000001+0.005973254637130411\tcv-train-error:0.0856836+0.0010499945904622523\n",
      "[40]\tcv-test-error:0.09108459999999999+0.005633388983551556\tcv-train-error:0.0858328+0.0011537721438828375\n",
      "[41]\tcv-test-error:0.09108460000000002+0.005254071510742886\tcv-train-error:0.0855118+0.0009765986688502046\n",
      "[42]\tcv-test-error:0.0907634+0.005287888902009952\tcv-train-error:0.08535100000000001+0.001000285559227964\n",
      "[43]\tcv-test-error:0.0908092+0.005231140426331528\tcv-train-error:0.08523660000000001+0.0010574258555567878\n",
      "[44]\tcv-test-error:0.0906262+0.005116021946786389\tcv-train-error:0.08525980000000001+0.0013511567488637302\n",
      "[45]\tcv-test-error:0.0904424+0.00496588741716926\tcv-train-error:0.0851218+0.0013990157111340809\n",
      "[46]\tcv-test-error:0.09035080000000001+0.005042539614123028\tcv-train-error:0.08491560000000001+0.0012706345816166033\n",
      "[47]\tcv-test-error:0.09012160000000001+0.004998660764644867\tcv-train-error:0.0846518+0.001105490913576408\n",
      "[48]\tcv-test-error:0.0901216+0.005115195972785404\tcv-train-error:0.0843538+0.0008754060543542053\n",
      "[49]\tcv-test-error:0.0900758+0.0049507793487490424\tcv-train-error:0.08426180000000001+0.0007696049376140954\n",
      "[50]\tcv-test-error:0.08993799999999999+0.005103842944292077\tcv-train-error:0.0841472+0.0008224289391795521\n",
      "[51]\tcv-test-error:0.0896628+0.0049646713647531595\tcv-train-error:0.0841704+0.0007744439553641075\n",
      "[52]\tcv-test-error:0.08993780000000001+0.004869163024586462\tcv-train-error:0.0842506+0.000783171909608614\n",
      "[53]\tcv-test-error:0.09003+0.005248871840691103\tcv-train-error:0.0838492+0.0009259242733614886\n",
      "[54]\tcv-test-error:0.0895714+0.005263161430167234\tcv-train-error:0.08364279999999999+0.0008481107003216035\n",
      "[55]\tcv-test-error:0.0893418+0.005290932333719646\tcv-train-error:0.08349379999999999+0.000797356231555255\n",
      "[56]\tcv-test-error:0.0893876+0.005184018232992626\tcv-train-error:0.08347079999999998+0.0007428290247425683\n",
      "[57]\tcv-test-error:0.0891584+0.005322362280040694\tcv-train-error:0.0833678+0.0008755490620176599\n",
      "[58]\tcv-test-error:0.08897479999999999+0.005172820600020843\tcv-train-error:0.08302380000000001+0.0009819265552983047\n",
      "[59]\tcv-test-error:0.08911279999999999+0.005210729599585841\tcv-train-error:0.08276+0.0008335999040307043\n",
      "[60]\tcv-test-error:0.0892962+0.005100466700214798\tcv-train-error:0.08263380000000001+0.0010035958150570383\n",
      "[61]\tcv-test-error:0.0890666+0.0049553577711402425\tcv-train-error:0.0821868+0.0010459610700212492\n",
      "[62]\tcv-test-error:0.088975+0.004958292448010706\tcv-train-error:0.082015+0.0011691277090207055\n",
      "[63]\tcv-test-error:0.088883+0.004675357654768239\tcv-train-error:0.0817854+0.0011509541433089346\n",
      "[64]\tcv-test-error:0.0887916+0.004842811604842789\tcv-train-error:0.08146439999999999+0.0009827837198488787\n",
      "[65]\tcv-test-error:0.0886996+0.005014240624461493\tcv-train-error:0.0813268+0.001220888102980775\n",
      "[66]\tcv-test-error:0.088562+0.004875618401802996\tcv-train-error:0.08126979999999999+0.0012436824996758615\n",
      "[67]\tcv-test-error:0.0885162+0.004730037268352121\tcv-train-error:0.08114360000000001+0.0012244222474293745\n",
      "[68]\tcv-test-error:0.08865379999999999+0.005016854169696384\tcv-train-error:0.0811206+0.0012362764415776938\n",
      "[69]\tcv-test-error:0.0888374+0.005093551633192696\tcv-train-error:0.0809256+0.0013977445546307819\n",
      "[70]\tcv-test-error:0.08892900000000001+0.0048736461094338775\tcv-train-error:0.0805128+0.0013915080165058313\n",
      "[71]\tcv-test-error:0.08869980000000001+0.005018469304479205\tcv-train-error:0.0802146+0.001358043386641236\n",
      "[72]\tcv-test-error:0.08842459999999999+0.005104259147026139\tcv-train-error:0.0799852+0.0012040065448327083\n",
      "[73]\tcv-test-error:0.08833279999999999+0.00501818941053444\tcv-train-error:0.07990499999999999+0.0012469503598780515\n",
      "[74]\tcv-test-error:0.08847039999999999+0.005128527102394996\tcv-train-error:0.07972159999999999+0.0011927594225157087\n",
      "[75]\tcv-test-error:0.08847039999999999+0.00475762842601227\tcv-train-error:0.0795496+0.0011912782378604915\n",
      "[76]\tcv-test-error:0.08828699999999999+0.0048031201525674935\tcv-train-error:0.07913680000000001+0.001154123806183724\n",
      "[77]\tcv-test-error:0.0880118+0.005107859175819162\tcv-train-error:0.07913659999999999+0.0012827621135658802\n",
      "[78]\tcv-test-error:0.0879202+0.005201983983058768\tcv-train-error:0.07886159999999999+0.0013495308221748764\n",
      "[79]\tcv-test-error:0.088012+0.005138452841079693\tcv-train-error:0.078793+0.0012925888750875147\n",
      "[80]\tcv-test-error:0.08792+0.0048564756356847885\tcv-train-error:0.07839199999999999+0.0014931983123483636\n",
      "[81]\tcv-test-error:0.0877826+0.0049594845538624265\tcv-train-error:0.0780248+0.001607912982720146\n",
      "[82]\tcv-test-error:0.08773679999999999+0.005263011206524262\tcv-train-error:0.0776578+0.0014265521231276454\n",
      "[83]\tcv-test-error:0.08787419999999999+0.005078985898779401\tcv-train-error:0.07748600000000001+0.001509750045537343\n",
      "[84]\tcv-test-error:0.08769099999999999+0.005365374581518052\tcv-train-error:0.0773712+0.0013968158647438085\n",
      "[85]\tcv-test-error:0.0875072+0.005730729496320693\tcv-train-error:0.0772108+0.0013211106539574942\n",
      "[86]\tcv-test-error:0.087278+0.005562575950043288\tcv-train-error:0.0770504+0.0013845410214219026\n",
      "[87]\tcv-test-error:0.08732399999999998+0.005528025651170586\tcv-train-error:0.0769356+0.0013567184822209808\n",
      "[88]\tcv-test-error:0.087645+0.0061468801517517825\tcv-train-error:0.0764768+0.0016739168916048383\n",
      "[89]\tcv-test-error:0.08764499999999999+0.006043379683587654\tcv-train-error:0.0764308+0.0015639454466189007\n",
      "[90]\tcv-test-error:0.0875992+0.005843889335023378\tcv-train-error:0.0763162+0.0015497568067280745\n",
      "[91]\tcv-test-error:0.08755319999999998+0.005891383280690536\tcv-train-error:0.07616719999999999+0.001752864672471894\n",
      "[92]\tcv-test-error:0.08704880000000001+0.005701011047173998\tcv-train-error:0.07581180000000001+0.001933161183140193\n",
      "[93]\tcv-test-error:0.0871402+0.00565175942163146\tcv-train-error:0.07588059999999999+0.001994451864548252\n",
      "[94]\tcv-test-error:0.0868652+0.005106016114349818\tcv-train-error:0.07547960000000001+0.0019790145628569783\n",
      "[95]\tcv-test-error:0.08714039999999999+0.005287674823587395\tcv-train-error:0.07527299999999999+0.0018754229389660326\n",
      "[96]\tcv-test-error:0.0870028+0.005262529711080022\tcv-train-error:0.0751008+0.0019905009821650377\n",
      "[97]\tcv-test-error:0.0870946+0.005187584779066263\tcv-train-error:0.0748372+0.0021273643223481916\n",
      "[98]\tcv-test-error:0.0870946+0.005155090245572815\tcv-train-error:0.0746996+0.0020332229194065248\n",
      "[99]\tcv-test-error:0.0868652+0.0051877141941321335\tcv-train-error:0.07447020000000001+0.0019783359067660883\n",
      "[100]\tcv-test-error:0.08663599999999999+0.004640882976331121\tcv-train-error:0.07424099999999999+0.0020469354655191256\n",
      "[101]\tcv-test-error:0.08677359999999999+0.004713239336167858\tcv-train-error:0.0741034+0.0020010100049724882\n",
      "[102]\tcv-test-error:0.08659+0.004655025456428781\tcv-train-error:0.07402299999999999+0.001874006296680992\n",
      "[103]\tcv-test-error:0.0866818+0.004687287121566162\tcv-train-error:0.0738398+0.0019489338008254694\n",
      "[104]\tcv-test-error:0.08672759999999999+0.004629533868544434\tcv-train-error:0.07363320000000001+0.0020464437837380244\n",
      "[105]\tcv-test-error:0.086957+0.004741625544051323\tcv-train-error:0.07346139999999998+0.0019124125705506122\n",
      "[106]\tcv-test-error:0.0866818+0.004723127497749768\tcv-train-error:0.0733466+0.002075122801185511\n",
      "[107]\tcv-test-error:0.0868192+0.0045705439676257354\tcv-train-error:0.073106+0.0020628820615827743\n",
      "[108]\tcv-test-error:0.08695679999999999+0.004533028674076527\tcv-train-error:0.0729224+0.0020512089703392\n",
      "[109]\tcv-test-error:0.08691099999999999+0.004552923456417866\tcv-train-error:0.07268140000000001+0.0020375108932224164\n",
      "[110]\tcv-test-error:0.0869568+0.0046385650539795195\tcv-train-error:0.0724296+0.002038729467094642\n",
      "[111]\tcv-test-error:0.0868652+0.004581479254563966\tcv-train-error:0.0722458+0.0019851880918441965\n",
      "[112]\tcv-test-error:0.08672759999999999+0.00460679335764043\tcv-train-error:0.07228040000000001+0.0020333779383085696\n",
      "[113]\tcv-test-error:0.0868652+0.00456303799677364\tcv-train-error:0.07211959999999999+0.0020659015078168643\n",
      "[114]\tcv-test-error:0.0869112+0.004511104982152377\tcv-train-error:0.0719824+0.0020269366640326956\n",
      "[115]\tcv-test-error:0.0871404+0.00441893044072884\tcv-train-error:0.07181019999999999+0.0020169154072493954\n",
      "[116]\tcv-test-error:0.08718619999999999+0.004518785651035022\tcv-train-error:0.07160380000000001+0.001980988581491571\n",
      "[117]\tcv-test-error:0.08709439999999999+0.004599708799478508\tcv-train-error:0.0714894+0.0018990541435146093\n",
      "[118]\tcv-test-error:0.0870026+0.004623035219420247\tcv-train-error:0.071363+0.001898921483368918\n",
      "[119]\tcv-test-error:0.0868192+0.004740086134238492\tcv-train-error:0.0709274+0.001618652723718094\n",
      "[120]\tcv-test-error:0.0869112+0.004872551504089002\tcv-train-error:0.07084700000000001+0.0016008352819700095\n",
      "[121]\tcv-test-error:0.08663579999999999+0.004546602969250778\tcv-train-error:0.0706522+0.0016286047279803633\n",
      "[122]\tcv-test-error:0.08654419999999999+0.004595398846672615\tcv-train-error:0.0705146+0.0015780254243832682\n",
      "[123]\tcv-test-error:0.0866358+0.004667616925155705\tcv-train-error:0.070354+0.0015799118962777612\n",
      "[124]\tcv-test-error:0.08672759999999999+0.004337943734074939\tcv-train-error:0.06995259999999999+0.001693862875205661\n",
      "[125]\tcv-test-error:0.08659+0.004247400475585039\tcv-train-error:0.06974620000000001+0.0018672098328789955\n",
      "[126]\tcv-test-error:0.08677359999999999+0.004044056953110328\tcv-train-error:0.0696202+0.0019187140902177156\n",
      "[127]\tcv-test-error:0.0866816+0.004065535221837343\tcv-train-error:0.06932219999999999+0.0016520326146901583\n",
      "[128]\tcv-test-error:0.0868652+0.004476386104884163\tcv-train-error:0.0691732+0.001732106740359841\n",
      "[129]\tcv-test-error:0.0868194+0.004415315100873322\tcv-train-error:0.06900120000000001+0.0017718222709967304\n",
      "[130]\tcv-test-error:0.0867734+0.00467909831484657\tcv-train-error:0.06878300000000001+0.0017723488369956958\n",
      "[131]\tcv-test-error:0.0866358+0.004837941438256567\tcv-train-error:0.0687148+0.0015449548084005575\n",
      "[132]\tcv-test-error:0.0864066+0.0051563775113930505\tcv-train-error:0.0683362+0.0015960187216947051\n",
      "[133]\tcv-test-error:0.0866818+0.005246875313936861\tcv-train-error:0.068382+0.0017297314242390313\n",
      "[134]\tcv-test-error:0.0866816+0.005216875563016623\tcv-train-error:0.068359+0.0016932497748412699\n",
      "[135]\tcv-test-error:0.08672759999999999+0.004981816118645892\tcv-train-error:0.0682674+0.0017239303466207677\n",
      "[136]\tcv-test-error:0.0868192+0.004971805442693834\tcv-train-error:0.0681526+0.0017774544269825898\n",
      "[137]\tcv-test-error:0.0865442+0.005123945604707374\tcv-train-error:0.06790059999999999+0.001673229524004401\n",
      "[138]\tcv-test-error:0.0867734+0.004937870658492387\tcv-train-error:0.0675334+0.0016880347863714184\n",
      "[139]\tcv-test-error:0.08659+0.005078618591703854\tcv-train-error:0.06724680000000001+0.001621122993483222\n",
      "[140]\tcv-test-error:0.08636079999999999+0.00529826693929251\tcv-train-error:0.0667652+0.0013800780267796448\n",
      "[141]\tcv-test-error:0.0863148+0.005215847597466786\tcv-train-error:0.06674240000000001+0.0014327741762050286\n",
      "[142]\tcv-test-error:0.0864066+0.005327428670568945\tcv-train-error:0.06670800000000002+0.0014625163246952148\n",
      "[143]\tcv-test-error:0.0859482+0.005475832517526444\tcv-train-error:0.0665702+0.0014673505920535829\n",
      "[144]\tcv-test-error:0.0858102+0.005471661626964884\tcv-train-error:0.0663754+0.0016369918264915082\n",
      "[145]\tcv-test-error:0.0857646+0.005526296828799554\tcv-train-error:0.066169+0.0015401940137528118\n",
      "[146]\tcv-test-error:0.085673+0.005622261324413869\tcv-train-error:0.0660086+0.0016006610634359797\n",
      "[147]\tcv-test-error:0.0854894+0.005651894393917847\tcv-train-error:0.0659742+0.001625662006691429\n",
      "[148]\tcv-test-error:0.08585639999999999+0.005635184099920782\tcv-train-error:0.0657562+0.0015993299096809274\n",
      "[149]\tcv-test-error:0.085673+0.005572963412763446\tcv-train-error:0.065527+0.0014366740757736222\n",
      "[150]\tcv-test-error:0.0856268+0.005500461304290761\tcv-train-error:0.06532059999999999+0.001450390512930913\n",
      "[151]\tcv-test-error:0.0853978+0.005380516384140094\tcv-train-error:0.0652518+0.0014198675149463787\n",
      "[152]\tcv-test-error:0.08544339999999999+0.005519682512608855\tcv-train-error:0.06511419999999998+0.0014070903879992947\n",
      "[153]\tcv-test-error:0.08512220000000001+0.005701378408770988\tcv-train-error:0.06495359999999999+0.0013747306063371092\n",
      "[154]\tcv-test-error:0.0853518+0.005684922564116416\tcv-train-error:0.06464400000000001+0.0013725291982322313\n",
      "[155]\tcv-test-error:0.08530579999999999+0.005766936601004038\tcv-train-error:0.0647244+0.0014705935672373912\n",
      "[156]\tcv-test-error:0.08521399999999998+0.005744462411749249\tcv-train-error:0.06449479999999999+0.001388804867502989\n",
      "[157]\tcv-test-error:0.0853518+0.00611856082424617\tcv-train-error:0.064346+0.0012632561102167668\n",
      "[158]\tcv-test-error:0.08526+0.006193760085763736\tcv-train-error:0.0642658+0.0014638049596855454\n",
      "[159]\tcv-test-error:0.08516839999999999+0.006113792492389649\tcv-train-error:0.064048+0.0014758273611774526\n",
      "[160]\tcv-test-error:0.0851684+0.005932281739769277\tcv-train-error:0.0639332+0.0015461764970403618\n",
      "[161]\tcv-test-error:0.0851682+0.005847948098264896\tcv-train-error:0.06383000000000001+0.0015781097553719133\n",
      "[162]\tcv-test-error:0.08526+0.005619928931934996\tcv-train-error:0.0636924+0.001588724217729434\n",
      "[163]\tcv-test-error:0.08507640000000001+0.005706765549766348\tcv-train-error:0.0634748+0.0014638616601304912\n",
      "[164]\tcv-test-error:0.08498480000000001+0.005955447704413162\tcv-train-error:0.06340599999999999+0.0015741623804423719\n",
      "[165]\tcv-test-error:0.08525980000000001+0.005615850439603963\tcv-train-error:0.063188+0.0015715307187579902\n",
      "[166]\tcv-test-error:0.08530580000000001+0.0057340110359154345\tcv-train-error:0.0629934+0.0014484632684331363\n",
      "[167]\tcv-test-error:0.08516839999999999+0.005629695252853391\tcv-train-error:0.0626834+0.0014774841589675321\n",
      "[168]\tcv-test-error:0.08484739999999999+0.005770970233851496\tcv-train-error:0.0626032+0.0015482966640795936\n",
      "[169]\tcv-test-error:0.0848012+0.005686912005649465\tcv-train-error:0.0623394+0.0016836369679951821\n",
      "[170]\tcv-test-error:0.08484739999999999+0.0058904297500267325\tcv-train-error:0.06231679999999999+0.0015415302008069756\n",
      "[171]\tcv-test-error:0.08452620000000001+0.005844750992129604\tcv-train-error:0.062201799999999995+0.0015685822133378914\n",
      "[172]\tcv-test-error:0.0847094+0.005893101852165804\tcv-train-error:0.0620758+0.001570229970418344\n",
      "[173]\tcv-test-error:0.0847558+0.005948337192863227\tcv-train-error:0.0618006+0.0015886086491014714\n",
      "[174]\tcv-test-error:0.0847556+0.005839104301174965\tcv-train-error:0.0616746+0.001511544190554813\n",
      "[175]\tcv-test-error:0.0843886+0.005899294520533789\tcv-train-error:0.0616056+0.0016456057364994826\n",
      "[176]\tcv-test-error:0.08452620000000001+0.00585372426409034\tcv-train-error:0.0614106+0.0016159285380238824\n",
      "[177]\tcv-test-error:0.0844346+0.005914125923583297\tcv-train-error:0.06118140000000001+0.001847460050988926\n",
      "[178]\tcv-test-error:0.08420520000000001+0.006101647921668375\tcv-train-error:0.0608606+0.0018357425309666923\n",
      "[179]\tcv-test-error:0.0839302+0.005925608032936364\tcv-train-error:0.060688399999999997+0.0018897288271072115\n",
      "[180]\tcv-test-error:0.08411360000000001+0.006180343763901812\tcv-train-error:0.060516400000000005+0.0019150284175437173\n",
      "[181]\tcv-test-error:0.08411360000000001+0.006000853992558057\tcv-train-error:0.0604132+0.0019000857243819318\n",
      "[182]\tcv-test-error:0.0838842+0.006065544704311392\tcv-train-error:0.0603674+0.0018760930254121198\n",
      "[183]\tcv-test-error:0.08383840000000001+0.006103893531181552\tcv-train-error:0.0603558+0.0017693861534441816\n",
      "[184]\tcv-test-error:0.08374680000000001+0.006132797254108438\tcv-train-error:0.060103800000000006+0.001805461647335663\n",
      "[185]\tcv-test-error:0.08397619999999999+0.006255338724641536\tcv-train-error:0.0598056+0.0018395489229699761\n",
      "[186]\tcv-test-error:0.0838844+0.00641967387333656\tcv-train-error:0.0597138+0.0017368218561499063\n",
      "[187]\tcv-test-error:0.0837926+0.006533804851692467\tcv-train-error:0.0595646+0.0017914562344640186\n",
      "[188]\tcv-test-error:0.08393+0.006455121067803457\tcv-train-error:0.0594272+0.001646036986218717\n",
      "[189]\tcv-test-error:0.08425120000000001+0.006260637232742367\tcv-train-error:0.0592554+0.0015831403728033726\n",
      "[190]\tcv-test-error:0.0843426+0.0062972311248675\tcv-train-error:0.05898+0.0016168904724810531\n",
      "[191]\tcv-test-error:0.08425099999999999+0.0059660001005698935\tcv-train-error:0.0587852+0.0017118759768160777\n",
      "[192]\tcv-test-error:0.0840678+0.005977890711613924\tcv-train-error:0.0585788+0.0017895083570634697\n",
      "[193]\tcv-test-error:0.08402180000000001+0.006037444936394866\tcv-train-error:0.0586592+0.0017639058251505382\n",
      "[194]\tcv-test-error:0.0839302+0.006215452208809909\tcv-train-error:0.0585446+0.0016566987173291339\n",
      "[195]\tcv-test-error:0.0837466+0.005979520201487742\tcv-train-error:0.0583722+0.0016492325973009397\n",
      "[196]\tcv-test-error:0.0839302+0.00587038081899292\tcv-train-error:0.0582118+0.0017395338915928025\n",
      "[197]\tcv-test-error:0.0837924+0.00601147411538967\tcv-train-error:0.057994199999999996+0.0018370841461402916\n",
      "[198]\tcv-test-error:0.0838382+0.006340596041382862\tcv-train-error:0.05794819999999999+0.0018484564804181897\n",
      "[199]\tcv-test-error:0.08402180000000001+0.006122769713128202\tcv-train-error:0.057719+0.0019018881144799247\n",
      "[200]\tcv-test-error:0.0838842+0.006084535525411943\tcv-train-error:0.057661399999999995+0.0018245945960678506\n",
      "[201]\tcv-test-error:0.08374660000000002+0.006201109758744801\tcv-train-error:0.05740920000000001+0.0018740355813057562\n",
      "[202]\tcv-test-error:0.08374659999999999+0.006300399498444526\tcv-train-error:0.057329+0.0018959316443374198\n",
      "[203]\tcv-test-error:0.0838386+0.0064134927956613465\tcv-train-error:0.057168399999999994+0.0019524409952672056\n",
      "[204]\tcv-test-error:0.0839302+0.006344943763344164\tcv-train-error:0.0568932+0.0019931598430632694\n",
      "[205]\tcv-test-error:0.08383840000000001+0.006464263039202538\tcv-train-error:0.0567902+0.00199763714422815\n",
      "[206]\tcv-test-error:0.08370079999999999+0.006304761070809903\tcv-train-error:0.056687+0.0019268613857773998\n",
      "[207]\tcv-test-error:0.0836548+0.006127399330874399\tcv-train-error:0.05654919999999999+0.0021004572264152373\n",
      "[208]\tcv-test-error:0.0833796+0.006201293787589815\tcv-train-error:0.0565148+0.0020318415686268448\n",
      "[209]\tcv-test-error:0.0832422+0.006034652546750308\tcv-train-error:0.056297+0.0019741870225487763\n",
      "[210]\tcv-test-error:0.0831044+0.006148155417684234\tcv-train-error:0.056125+0.001987039707705914\n",
      "[211]\tcv-test-error:0.0831502+0.006142999768842581\tcv-train-error:0.056022+0.0019001831490674781\n",
      "[212]\tcv-test-error:0.083242+0.0060817367914108205\tcv-train-error:0.0558156+0.0018081575816283266\n",
      "[213]\tcv-test-error:0.08319639999999999+0.006422447807495211\tcv-train-error:0.055643599999999994+0.0018112559841170991\n",
      "[214]\tcv-test-error:0.083242+0.006174233814814595\tcv-train-error:0.055471599999999996+0.001713986300995432\n",
      "[215]\tcv-test-error:0.08305860000000001+0.006241260821340509\tcv-train-error:0.05527660000000001+0.0016566964236093445\n",
      "[216]\tcv-test-error:0.08305879999999999+0.006151244700058681\tcv-train-error:0.0549554+0.0017332301174396898\n",
      "[217]\tcv-test-error:0.0833338+0.005907114469857512\tcv-train-error:0.054760600000000006+0.001782314742126093\n",
      "[218]\tcv-test-error:0.0832422+0.006067667901261572\tcv-train-error:0.0547034+0.001810216848888552\n",
      "[219]\tcv-test-error:0.0833338+0.0061416136772024345\tcv-train-error:0.0544968+0.0018987552132910671\n",
      "[220]\tcv-test-error:0.08315059999999999+0.006273707567300216\tcv-train-error:0.054302+0.0017669014686733397\n",
      "[221]\tcv-test-error:0.0831962+0.006185192297738202\tcv-train-error:0.054176+0.0017666740502990353\n",
      "[222]\tcv-test-error:0.08342540000000001+0.006132162802796415\tcv-train-error:0.05395799999999999+0.0015599132027135343\n",
      "[223]\tcv-test-error:0.083242+0.0064757411622145605\tcv-train-error:0.05380900000000001+0.0015507630379912975\n",
      "[224]\tcv-test-error:0.08333379999999999+0.006276971479941581\tcv-train-error:0.053717400000000005+0.0016888177639994215\n",
      "[225]\tcv-test-error:0.083288+0.006281686174905589\tcv-train-error:0.053625400000000004+0.0017230807990341014\n",
      "[226]\tcv-test-error:0.0832878+0.006333546602023233\tcv-train-error:0.0534996+0.0017509844773726598\n",
      "[227]\tcv-test-error:0.083609+0.006030382641259174\tcv-train-error:0.053304399999999995+0.0016561311059212678\n",
      "[228]\tcv-test-error:0.0836548+0.005950883779742299\tcv-train-error:0.0531212+0.0016616599411431923\n",
      "[229]\tcv-test-error:0.0837926+0.00600604410906214\tcv-train-error:0.053006399999999995+0.0016794883268424344\n",
      "[230]\tcv-test-error:0.08365500000000001+0.006180131681444985\tcv-train-error:0.05281140000000001+0.0015401408507016506\n",
      "[231]\tcv-test-error:0.08365500000000001+0.006183532323842093\tcv-train-error:0.052616399999999994+0.001524710280676298\n",
      "[232]\tcv-test-error:0.0834254+0.006278414787189521\tcv-train-error:0.0523756+0.0014160411858417106\n",
      "[233]\tcv-test-error:0.083288+0.006356643076341474\tcv-train-error:0.0523414+0.0014492242890594953\n",
      "[234]\tcv-test-error:0.0830586+0.00637453921785724\tcv-train-error:0.05219239999999999+0.0014872334853680501\n",
      "[235]\tcv-test-error:0.08305860000000001+0.0064056809349201885\tcv-train-error:0.0519862+0.0015451479411370285\n",
      "[236]\tcv-test-error:0.0830128+0.00639521350386365\tcv-train-error:0.051986+0.0014493989098933399\n",
      "[237]\tcv-test-error:0.083059+0.00647628124775322\tcv-train-error:0.0518254+0.0014637993851617794\n",
      "[238]\tcv-test-error:0.0831506+0.0063100662944219526\tcv-train-error:0.051733600000000005+0.001433720977038418\n",
      "[239]\tcv-test-error:0.0831506+0.0063100662944219526\tcv-train-error:0.05157320000000001+0.001451912035903003\n",
      "[240]\tcv-test-error:0.083242+0.006107572807588954\tcv-train-error:0.051527199999999995+0.0015393239295223076\n",
      "[241]\tcv-test-error:0.0831962+0.006116906322643827\tcv-train-error:0.0513666+0.001406322096818508\n",
      "[242]\tcv-test-error:0.08315059999999999+0.006187059514826084\tcv-train-error:0.051137600000000005+0.0014629818317395463\n",
      "[243]\tcv-test-error:0.0827836+0.0059712735860953485\tcv-train-error:0.05098860000000001+0.0014977252885626257\n",
      "[244]\tcv-test-error:0.0827378+0.006155914924688287\tcv-train-error:0.050942600000000005+0.0014746851324943908\n",
      "[245]\tcv-test-error:0.0827378+0.00612521566640718\tcv-train-error:0.0508506+0.0015531967808362212\n",
      "[246]\tcv-test-error:0.0828294+0.0061985978608069085\tcv-train-error:0.0508394+0.0015591562590067754\n",
      "[247]\tcv-test-error:0.08259999999999999+0.0061986528859099685\tcv-train-error:0.050529599999999994+0.0017312507155233174\n",
      "[248]\tcv-test-error:0.0827378+0.006200224686251295\tcv-train-error:0.05034620000000001+0.001675855053398116\n",
      "[249]\tcv-test-error:0.08264579999999999+0.006158212708245791\tcv-train-error:0.050312+0.0015744748965925118\n",
      "[250]\tcv-test-error:0.082921+0.00629855789843993\tcv-train-error:0.0502088+0.001591386615502343\n",
      "[251]\tcv-test-error:0.0828752+0.006128878213833264\tcv-train-error:0.0500254+0.0015072015923558479\n",
      "[252]\tcv-test-error:0.082921+0.006068577823510217\tcv-train-error:0.04996779999999999+0.0015246555545433851\n",
      "[253]\tcv-test-error:0.0829212+0.006097853012331474\tcv-train-error:0.049933599999999995+0.0015406296894451945\n",
      "[254]\tcv-test-error:0.0826+0.006294642547436669\tcv-train-error:0.04996779999999999+0.0015361864990944293\n",
      "[255]\tcv-test-error:0.0827376+0.0061663212241984235\tcv-train-error:0.04986480000000001+0.00146925578440243\n",
      "[256]\tcv-test-error:0.08264600000000001+0.006371259875409257\tcv-train-error:0.0498074+0.0013939016608068156\n",
      "[257]\tcv-test-error:0.08259999999999999+0.0062794975276689105\tcv-train-error:0.0497502+0.0014501149471679835\n",
      "[258]\tcv-test-error:0.082646+0.006205721166794394\tcv-train-error:0.049658400000000005+0.001408741367320488\n",
      "[259]\tcv-test-error:0.0827836+0.0060708821961886214\tcv-train-error:0.0496124+0.0014299628806371163\n",
      "[260]\tcv-test-error:0.08273760000000001+0.006132112021155513\tcv-train-error:0.0493144+0.0013509558986140153\n",
      "[261]\tcv-test-error:0.0828754+0.005874183810539126\tcv-train-error:0.0492456+0.0013486622408890956\n",
      "[262]\tcv-test-error:0.0829212+0.0058514304029015\tcv-train-error:0.049108200000000005+0.0014056177858863329\n",
      "[263]\tcv-test-error:0.0828754+0.006049280704348242\tcv-train-error:0.04903919999999999+0.0014838427679508364\n",
      "[264]\tcv-test-error:0.08227920000000001+0.005892127574993601\tcv-train-error:0.0490392+0.0014522505844378239\n",
      "[265]\tcv-test-error:0.0822332+0.005956359539181625\tcv-train-error:0.04882160000000001+0.0013732961224732264\n",
      "[266]\tcv-test-error:0.08259999999999999+0.006286313705185259\tcv-train-error:0.048615+0.0012398662831128201\n",
      "[267]\tcv-test-error:0.0823708+0.00596647448331089\tcv-train-error:0.0485346+0.0011707357686514914\n",
      "[268]\tcv-test-error:0.0821874+0.005664495585663389\tcv-train-error:0.0483282+0.0013085559063333897\n",
      "[269]\tcv-test-error:0.0820954+0.005692789741418525\tcv-train-error:0.0482594+0.0014213003342010437\n",
      "[270]\tcv-test-error:0.0822788+0.005648806826224457\tcv-train-error:0.048122+0.0014497010726353214\n",
      "[271]\tcv-test-error:0.0823244+0.005353240835232428\tcv-train-error:0.048007+0.001325760611875311\n",
      "[272]\tcv-test-error:0.0827376+0.005304793892320419\tcv-train-error:0.0477778+0.0011900338482581073\n",
      "[273]\tcv-test-error:0.0827834+0.005345286918398301\tcv-train-error:0.047778+0.0012832519627882903\n",
      "[274]\tcv-test-error:0.0827834+0.005225987202433622\tcv-train-error:0.04781219999999999+0.00119379217621829\n",
      "[275]\tcv-test-error:0.082875+0.005237338140697051\tcv-train-error:0.0476288+0.001329916448503439\n",
      "[276]\tcv-test-error:0.0828292+0.005302740400962507\tcv-train-error:0.047434+0.0012117146528783094\n",
      "[277]\tcv-test-error:0.0828292+0.0053286315466543575\tcv-train-error:0.047376600000000005+0.0013100130686371028\n",
      "[278]\tcv-test-error:0.0826456+0.005469275366993329\tcv-train-error:0.0471818+0.0011741285108539008\n",
      "[279]\tcv-test-error:0.08269180000000001+0.005598909372368874\tcv-train-error:0.047055599999999996+0.0012017954235226565\n",
      "[280]\tcv-test-error:0.082967+0.005581887601878057\tcv-train-error:0.047021400000000005+0.0011836345043973668\n",
      "[281]\tcv-test-error:0.08305860000000001+0.005656752764616816\tcv-train-error:0.046791799999999995+0.0012724990216106248\n",
      "[282]\tcv-test-error:0.0832422+0.0054203169796608755\tcv-train-error:0.04662+0.0012432685952761765\n",
      "[283]\tcv-test-error:0.0827836+0.005503391957692998\tcv-train-error:0.046379199999999995+0.0011440540896303815\n",
      "[284]\tcv-test-error:0.083013+0.0054667520155939\tcv-train-error:0.0463448+0.001280971724902622\n",
      "[285]\tcv-test-error:0.0830588+0.005547749540128862\tcv-train-error:0.0462188+0.001282867631519324\n",
      "[286]\tcv-test-error:0.08292079999999999+0.005340711053783006\tcv-train-error:0.04605820000000001+0.0013159006649439767\n",
      "[287]\tcv-test-error:0.08282940000000001+0.005494062271216085\tcv-train-error:0.046035000000000006+0.0013415583475943208\n",
      "[288]\tcv-test-error:0.08282940000000001+0.005494062271216085\tcv-train-error:0.045920600000000006+0.0012544666755239043\n",
      "[289]\tcv-test-error:0.082692+0.00550028261092101\tcv-train-error:0.0457828+0.0012268772391726887\n",
      "[290]\tcv-test-error:0.0826458+0.005617233318992544\tcv-train-error:0.0455994+0.0012072765383291451\n",
      "[291]\tcv-test-error:0.0826916+0.00560971730482027\tcv-train-error:0.04555340000000001+0.0012790403590192138\n",
      "[292]\tcv-test-error:0.08269180000000001+0.005314904642606487\tcv-train-error:0.04546180000000001+0.0011158430714038627\n",
      "[293]\tcv-test-error:0.0828292+0.00526276426984907\tcv-train-error:0.0454504+0.0011614138969376947\n",
      "[294]\tcv-test-error:0.08301259999999999+0.005325500074171443\tcv-train-error:0.045289800000000005+0.0011958714646649951\n",
      "[295]\tcv-test-error:0.0827832+0.005384761068051208\tcv-train-error:0.0451752+0.0010948322976602391\n",
      "[296]\tcv-test-error:0.08273739999999999+0.005424376705207707\tcv-train-error:0.0450948+0.00120108790685778\n",
      "[297]\tcv-test-error:0.082875+0.005291235507894164\tcv-train-error:0.045106400000000005+0.0012102331345654033\n",
      "[298]\tcv-test-error:0.0826916+0.005376034136796383\tcv-train-error:0.0448656+0.001276010125351677\n",
      "[299]\tcv-test-error:0.08273739999999999+0.005310746260178509\tcv-train-error:0.04471660000000001+0.0011851451556665954\n",
      "[300]\tcv-test-error:0.082829+0.005493589573311787\tcv-train-error:0.0445906+0.0011302531751780215\n",
      "[301]\tcv-test-error:0.0831042+0.0054232241111722475\tcv-train-error:0.0444872+0.0011086881256692515\n",
      "[302]\tcv-test-error:0.08296699999999999+0.005481012935580427\tcv-train-error:0.0444528+0.0010369592856038282\n",
      "[303]\tcv-test-error:0.08296680000000001+0.0053010739062948386\tcv-train-error:0.044223599999999995+0.0011833705421380066\n",
      "[304]\tcv-test-error:0.0830124+0.005264189571054599\tcv-train-error:0.0441088+0.0011627146511504884\n",
      "[305]\tcv-test-error:0.08296679999999998+0.005280956027084491\tcv-train-error:0.044097399999999995+0.000977256076982896\n",
      "[306]\tcv-test-error:0.0830126+0.005116106980898661\tcv-train-error:0.043879600000000005+0.0010152880576466939\n",
      "[307]\tcv-test-error:0.08305860000000001+0.005048408406616881\tcv-train-error:0.043696200000000004+0.0010690059681779146\n",
      "[308]\tcv-test-error:0.08301259999999999+0.005527514001791406\tcv-train-error:0.043684600000000004+0.0010107483564171643\n",
      "[309]\tcv-test-error:0.08296680000000001+0.005469157207468077\tcv-train-error:0.0436502+0.0009085023720387292\n",
      "[310]\tcv-test-error:0.0829668+0.005440222988076869\tcv-train-error:0.0435586+0.0009416692837721746\n",
      "[311]\tcv-test-error:0.08305860000000001+0.005289073325262187\tcv-train-error:0.043558599999999996+0.0009763912330618305\n",
      "[312]\tcv-test-error:0.0829666+0.005436507467115263\tcv-train-error:0.0434898+0.000993276477120041\n",
      "[313]\tcv-test-error:0.08301260000000002+0.00533356089681181\tcv-train-error:0.04328320000000001+0.0010140480067531324\n",
      "[314]\tcv-test-error:0.0828292+0.0052589598363174455\tcv-train-error:0.0432032+0.0008924466146498615\n",
      "[315]\tcv-test-error:0.082875+0.005399417931592257\tcv-train-error:0.0429966+0.0008904997697922209\n",
      "[316]\tcv-test-error:0.082921+0.005353016009690242\tcv-train-error:0.04285900000000001+0.0009765901904074193\n",
      "[317]\tcv-test-error:0.0827834+0.005435698652427305\tcv-train-error:0.0427102+0.0008978945149626434\n",
      "[318]\tcv-test-error:0.08255399999999999+0.00537515845347837\tcv-train-error:0.042584+0.0009919308443636584\n",
      "[319]\tcv-test-error:0.08264580000000002+0.005360568081836103\tcv-train-error:0.042435+0.0009525303144782325\n",
      "Stopping. Best iteration: 269\n"
     ]
    }
   ],
   "source": [
    "xgb1 = XGBClassifier(\n",
    "        learning_rate =0.1,\n",
    "        n_estimators=1000,\n",
    "        max_depth=5,\n",
    "        min_child_weight=1,\n",
    "        gamma=0,\n",
    "        subsample=0.8,\n",
    "        colsample_bytree=0.8,\n",
    "        objective= 'binary:logistic',\n",
    "        nthread=4,\n",
    "        scale_pos_weight=1,\n",
    "        seed=27)\n",
    "xgb1, dtrain_predictions, dtrain_predprob = modelfit(xgb1, train, test, Predictors,target)"
   ]
  },
  {
   "cell_type": "code",
   "execution_count": 57,
   "metadata": {
    "collapsed": false
   },
   "outputs": [],
   "source": [
    "def get_performance(xgbmodel,dtrain,dtest,predictors,dtrain_predictions):\n",
    "    print (\"\\nModel Report\")\n",
    "    print (\"Train accuracy : %.4g\" % metrics.accuracy_score(dtrain[target].values, dtrain_predictions))\n",
    "    test_result = xgbmodel.predict(dtest[predictors])\n",
    "    dtest_predprob = xgbmodel.predict_proba(dtest[predictors])[:,1]\n",
    "    print (\"Test accuracy : %.4g\" % metrics.accuracy_score(dtest[target].values, test_result))\n",
    "    print (\"AUC Score (Train): %f\" % metrics.roc_auc_score(dtrain[target], dtrain_predprob))\n",
    "    print (\"AUC Score (Test): %f\" % metrics.roc_auc_score(dtest[target], dtest_predprob))\n",
    "    print (pd.crosstab(dtest[target].values, test_result, rownames=['actual'], colnames=['preds']))\n",
    "    feat_imp = pd.Series(xgbmodel.booster().get_fscore()).sort_values(ascending=False)\n",
    "    feat_imp.plot(kind='barh', title='Feature Importances').invert_yaxis()\n",
    "    plt.ylabel('Feature Importance Score')"
   ]
  },
  {
   "cell_type": "code",
   "execution_count": 58,
   "metadata": {
    "collapsed": false
   },
   "outputs": [
    {
     "name": "stdout",
     "output_type": "stream",
     "text": [
      "\n",
      "Model Report\n",
      "Train accuracy : 0.949\n",
      "Test accuracy : 0.9158\n",
      "AUC Score (Train): 0.983314\n",
      "AUC Score (Test): 0.942012\n",
      "preds      0     1\n",
      "actual            \n",
      "0       7528   186\n",
      "1        601  1030\n"
     ]
    },
    {
     "data": {
      "image/png": "[encoded data removed]",
      "text/plain": [
       "<matplotlib.figure.Figure at 0x10d3e92e8>"
      ]
     },
     "metadata": {},
     "output_type": "display_data"
    }
   ],
   "source": [
    "get_performance(xgb1,train,test,Predictors,dtrain_predictions)"
   ]
  }
 ],
 "metadata": {
  "kernelspec": {
   "display_name": "Python 3",
   "language": "python",
   "name": "python3"
  },
  "language_info": {
   "codemirror_mode": {
    "name": "ipython",
    "version": 3
   },
   "file_extension": ".py",
   "mimetype": "text/x-python",
   "name": "python",
   "nbconvert_exporter": "python",
   "pygments_lexer": "ipython3",
   "version": "3.5.2"
  }
 },
 "nbformat": 4,
 "nbformat_minor": 0
}
